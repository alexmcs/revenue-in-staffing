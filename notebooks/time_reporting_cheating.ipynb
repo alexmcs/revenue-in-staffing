{
 "cells": [
  {
   "cell_type": "markdown",
   "metadata": {
    "toc": true
   },
   "source": [
    "<h1>Table of Contents<span class=\"tocSkip\"></span></h1>\n",
    "<div class=\"toc\" style=\"margin-top: 1em;\"><ul class=\"toc-item\"><li><span><a href=\"#Plotly\" data-toc-modified-id=\"Plotly-1\"><span class=\"toc-item-num\">1&nbsp;&nbsp;</span>Plotly</a></span></li><li><span><a href=\"#Data\" data-toc-modified-id=\"Data-2\"><span class=\"toc-item-num\">2&nbsp;&nbsp;</span>Data</a></span></li><li><span><a href=\"#Sankey\" data-toc-modified-id=\"Sankey-3\"><span class=\"toc-item-num\">3&nbsp;&nbsp;</span>Sankey</a></span></li><li><span><a href=\"#Grouping-by-accounts\" data-toc-modified-id=\"Grouping-by-accounts-4\"><span class=\"toc-item-num\">4&nbsp;&nbsp;</span>Grouping by accounts</a></span><ul class=\"toc-item\"><li><span><a href=\"#Many-to-many\" data-toc-modified-id=\"Many-to-many-4.1\"><span class=\"toc-item-num\">4.1&nbsp;&nbsp;</span>Many-to-many</a></span></li><li><span><a href=\"#Saint-Petersburg-May-billable\" data-toc-modified-id=\"Saint-Petersburg-May-billable-4.2\"><span class=\"toc-item-num\">4.2&nbsp;&nbsp;</span>Saint-Petersburg May billable</a></span></li></ul></li></ul></div>"
   ]
  },
  {
   "cell_type": "code",
   "execution_count": 1,
   "metadata": {},
   "outputs": [],
   "source": [
    "import psycopg2 as pg\n",
    "import pandas as pd\n",
    "import numpy as np\n",
    "import pandas.io.sql as psql\n",
    "import datetime\n",
    "from dateutil.relativedelta import relativedelta\n",
    "import time\n",
    "import sys\n",
    "sys.path.append('../src')\n",
    "from datahub import PostgreSQLBase, ToDatahubWriter\n",
    "import seaborn as sns\n",
    "import logging\n",
    "logger = logging.getLogger()\n",
    "logger.setLevel(logging.DEBUG)\n",
    "\n",
    "formatter = logging.Formatter('%(asctime)s - %(name)s : %(levelname)s : %(message)s')\n",
    "\n",
    "consoleHandler = logging.StreamHandler()\n",
    "consoleHandler.setFormatter(formatter)\n",
    "logger.addHandler(consoleHandler)\n",
    "\n",
    "import auxiliary as aux\n",
    "reload (aux)\n",
    "\n",
    "postgres = PostgreSQLBase()\n",
    "df_proc = aux.DataFrameProcessor()\n",
    "loc_ids = aux.City_Country()"
   ]
  },
  {
   "cell_type": "code",
   "execution_count": 1,
   "metadata": {},
   "outputs": [
    {
     "data": {
      "text/plain": [
       "u'3.10.0'"
      ]
     },
     "execution_count": 1,
     "metadata": {},
     "output_type": "execute_result"
    }
   ],
   "source": [
    "import plotly.plotly as py\n",
    "import plotly\n",
    "plotly.__version__"
   ]
  },
  {
   "cell_type": "markdown",
   "metadata": {},
   "source": [
    "# Plotly"
   ]
  },
  {
   "cell_type": "code",
   "execution_count": 19,
   "metadata": {
    "scrolled": true
   },
   "outputs": [
    {
     "name": "stdout",
     "output_type": "stream",
     "text": [
      "Collecting plotly\n",
      "  Downloading https://files.pythonhosted.org/packages/ff/75/3982bac5076d0ce6d23103c03840fcaec90c533409f9d82c19f54512a38a/plotly-3.10.0-py2.py3-none-any.whl (41.5MB)\n",
      "Requirement already satisfied, skipping upgrade: pytz in c:\\users\\alexey_yakunin\\appdata\\local\\continuum\\anaconda2\\envs\\wpm-ds-revenue-in-staffing\\lib\\site-packages (from plotly) (2019.1)\n",
      "Requirement already satisfied, skipping upgrade: decorator>=4.0.6 in c:\\users\\alexey_yakunin\\appdata\\local\\continuum\\anaconda2\\envs\\wpm-ds-revenue-in-staffing\\lib\\site-packages (from plotly) (4.4.0)\n",
      "Requirement already satisfied, skipping upgrade: six in c:\\users\\alexey_yakunin\\appdata\\local\\continuum\\anaconda2\\envs\\wpm-ds-revenue-in-staffing\\lib\\site-packages (from plotly) (1.12.0)\n",
      "Collecting retrying>=1.3.3 (from plotly)\n",
      "  Downloading https://files.pythonhosted.org/packages/44/ef/beae4b4ef80902f22e3af073397f079c96969c69b2c7d52a57ea9ae61c9d/retrying-1.3.3.tar.gz\n",
      "Requirement already satisfied, skipping upgrade: requests in c:\\users\\alexey_yakunin\\appdata\\local\\continuum\\anaconda2\\envs\\wpm-ds-revenue-in-staffing\\lib\\site-packages (from plotly) (2.21.0)\n",
      "Requirement already satisfied, skipping upgrade: nbformat>=4.2 in c:\\users\\alexey_yakunin\\appdata\\local\\continuum\\anaconda2\\envs\\wpm-ds-revenue-in-staffing\\lib\\site-packages (from plotly) (4.4.0)\n",
      "Requirement already satisfied, skipping upgrade: urllib3<1.25,>=1.21.1 in c:\\users\\alexey_yakunin\\appdata\\local\\continuum\\anaconda2\\envs\\wpm-ds-revenue-in-staffing\\lib\\site-packages (from requests->plotly) (1.24.2)\n",
      "Requirement already satisfied, skipping upgrade: idna<2.9,>=2.5 in c:\\users\\alexey_yakunin\\appdata\\local\\continuum\\anaconda2\\envs\\wpm-ds-revenue-in-staffing\\lib\\site-packages (from requests->plotly) (2.8)\n",
      "Requirement already satisfied, skipping upgrade: chardet<3.1.0,>=3.0.2 in c:\\users\\alexey_yakunin\\appdata\\local\\continuum\\anaconda2\\envs\\wpm-ds-revenue-in-staffing\\lib\\site-packages (from requests->plotly) (3.0.4)\n",
      "Requirement already satisfied, skipping upgrade: certifi>=2017.4.17 in c:\\users\\alexey_yakunin\\appdata\\local\\continuum\\anaconda2\\envs\\wpm-ds-revenue-in-staffing\\lib\\site-packages (from requests->plotly) (2019.3.9)\n",
      "Requirement already satisfied, skipping upgrade: ipython_genutils in c:\\users\\alexey_yakunin\\appdata\\local\\continuum\\anaconda2\\envs\\wpm-ds-revenue-in-staffing\\lib\\site-packages (from nbformat>=4.2->plotly) (0.2.0)\n",
      "Requirement already satisfied, skipping upgrade: traitlets>=4.1 in c:\\users\\alexey_yakunin\\appdata\\local\\continuum\\anaconda2\\envs\\wpm-ds-revenue-in-staffing\\lib\\site-packages (from nbformat>=4.2->plotly) (4.3.2)\n",
      "Requirement already satisfied, skipping upgrade: jsonschema!=2.5.0,>=2.4 in c:\\users\\alexey_yakunin\\appdata\\local\\continuum\\anaconda2\\envs\\wpm-ds-revenue-in-staffing\\lib\\site-packages (from nbformat>=4.2->plotly) (2.6.0)\n",
      "Requirement already satisfied, skipping upgrade: jupyter_core in c:\\users\\alexey_yakunin\\appdata\\local\\continuum\\anaconda2\\envs\\wpm-ds-revenue-in-staffing\\lib\\site-packages (from nbformat>=4.2->plotly) (4.4.0)\n",
      "Requirement already satisfied, skipping upgrade: enum34 in c:\\users\\alexey_yakunin\\appdata\\local\\continuum\\anaconda2\\envs\\wpm-ds-revenue-in-staffing\\lib\\site-packages (from traitlets>=4.1->nbformat>=4.2->plotly) (1.1.6)\n",
      "Requirement already satisfied, skipping upgrade: functools32 in c:\\users\\alexey_yakunin\\appdata\\local\\continuum\\anaconda2\\envs\\wpm-ds-revenue-in-staffing\\lib\\site-packages (from jsonschema!=2.5.0,>=2.4->nbformat>=4.2->plotly) (3.2.3.post2)\n",
      "Building wheels for collected packages: retrying\n",
      "  Building wheel for retrying (setup.py): started\n",
      "  Building wheel for retrying (setup.py): finished with status 'done'\n",
      "  Stored in directory: C:\\Users\\Alexey_Yakunin\\AppData\\Local\\pip\\Cache\\wheels\\d7\\a9\\33\\acc7b709e2a35caa7d4cae442f6fe6fbf2c43f80823d46460c\n",
      "Successfully built retrying\n",
      "Installing collected packages: retrying, plotly\n",
      "Successfully installed plotly-3.10.0 retrying-1.3.3\n"
     ]
    },
    {
     "name": "stderr",
     "output_type": "stream",
     "text": [
      "DEPRECATION: Python 2.7 will reach the end of its life on January 1st, 2020. Please upgrade your Python as Python 2.7 won't be maintained after that date. A future version of pip will drop support for Python 2.7.\n"
     ]
    }
   ],
   "source": [
    "# !pip install plotly --upgrade"
   ]
  },
  {
   "cell_type": "code",
   "execution_count": 2,
   "metadata": {
    "scrolled": true
   },
   "outputs": [
    {
     "data": {
      "text/html": [
       "<iframe id=\"igraph\" scrolling=\"no\" style=\"border:none;\" seamless=\"seamless\" src=\"https://plot.ly/~alex20dc/121.embed\" height=\"525px\" width=\"100%\"></iframe>"
      ],
      "text/plain": [
       "<chart_studio.tools.PlotlyDisplay object>"
      ]
     },
     "execution_count": 2,
     "metadata": {},
     "output_type": "execute_result"
    }
   ],
   "source": [
    "import plotly.plotly as py\n",
    "\n",
    "data = dict(\n",
    "    type='sankey',\n",
    "    node = dict(\n",
    "      pad = 15,\n",
    "      thickness = 20,\n",
    "      line = dict(\n",
    "        color = \"black\",\n",
    "        width = 0.5\n",
    "      ),\n",
    "      label = [\"A1\", \"A2\", \"B1\", \"B2\", \"C1\", \"C2\", \"C3\"],\n",
    "      color = [\"blue\", \"blue\", \"blue\", \"blue\", \"blue\", \"blue\", \"red\"]\n",
    "    ),\n",
    "    link = dict(\n",
    "      source = [0,1,0,2,3,3,2],\n",
    "      target = [2,3,3,4,4,5,6],\n",
    "      value = [8,4,2,6,4,2,2]\n",
    "  ))\n",
    "\n",
    "layout =  dict(\n",
    "    title = \"Basic Sankey Diagram\",\n",
    "    font = dict(\n",
    "      size = 10\n",
    "    )\n",
    ")\n",
    "\n",
    "fig = dict(data=[data], layout=layout)\n",
    "py.iplot(fig, validate=False)\n",
    "\n"
   ]
  },
  {
   "cell_type": "code",
   "execution_count": null,
   "metadata": {},
   "outputs": [],
   "source": []
  },
  {
   "cell_type": "code",
   "execution_count": null,
   "metadata": {},
   "outputs": [],
   "source": []
  },
  {
   "cell_type": "markdown",
   "metadata": {},
   "source": [
    "# Data"
   ]
  },
  {
   "cell_type": "code",
   "execution_count": null,
   "metadata": {},
   "outputs": [],
   "source": []
  },
  {
   "cell_type": "code",
   "execution_count": 6,
   "metadata": {},
   "outputs": [],
   "source": [
    "snaps = ['2019-02-01', '2019-02-07', '2019-02-14',\n",
    "         '2019-03-01', '2019-03-07', '2019-03-14',\n",
    "         '2019-04-01', '2019-04-07', '2019-04-14',\n",
    "         '2019-05-01', '2019-05-07', '2019-05-14',\n",
    "         '2019-06-01', '2019-06-07', '2019-06-14', '2019-06-21']"
   ]
  },
  {
   "cell_type": "code",
   "execution_count": 21,
   "metadata": {},
   "outputs": [],
   "source": [
    "sub_snaps = [s for s in snaps if int(s[6]) >= int(max_date[6])]"
   ]
  },
  {
   "cell_type": "code",
   "execution_count": 25,
   "metadata": {},
   "outputs": [
    {
     "data": {
      "text/plain": [
       "['2019-04-01',\n",
       " '2019-04-07',\n",
       " '2019-04-14',\n",
       " '2019-05-01',\n",
       " '2019-06-01',\n",
       " '2019-06-21']"
      ]
     },
     "execution_count": 25,
     "metadata": {},
     "output_type": "execute_result"
    }
   ],
   "source": [
    "[s for s in sub_snaps if int(s[6]) == int(max_date[6])+1\n",
    "] + [s for s in sub_snaps if (s[8:] == '01')&(int(s[6]) > int(max_date[6])+1)] + snaps[-1:]"
   ]
  },
  {
   "cell_type": "code",
   "execution_count": null,
   "metadata": {},
   "outputs": [],
   "source": []
  },
  {
   "cell_type": "code",
   "execution_count": 27,
   "metadata": {
    "scrolled": true
   },
   "outputs": [
    {
     "name": "stderr",
     "output_type": "stream",
     "text": [
      "2019-06-21 20:48:35,744 - root : INFO : 2019-01-01, 2019-02-01, ['2019-02-01', '2019-02-07', '2019-02-14', '2019-03-01', '2019-04-01', '2019-05-01', '2019-06-01', '2019-06-21']\n",
      "2019-06-21 21:37:07,286 - root : INFO : 2019-02-01, 2019-03-01, ['2019-03-01', '2019-03-07', '2019-03-14', '2019-04-01', '2019-05-01', '2019-06-01', '2019-06-21']\n",
      "2019-06-21 22:02:01,917 - root : INFO : 2019-03-01, 2019-04-01, ['2019-04-01', '2019-04-07', '2019-04-14', '2019-05-01', '2019-06-01', '2019-06-21']\n",
      "2019-06-21 22:21:47,660 - root : INFO : 2019-04-01, 2019-05-01, ['2019-05-01', '2019-05-07', '2019-05-14', '2019-06-01', '2019-06-21']\n",
      "2019-06-21 22:35:36,151 - root : INFO : 2019-05-01, 2019-06-01, ['2019-06-01', '2019-06-07', '2019-06-14', '2019-06-21', '2019-06-21']\n"
     ]
    },
    {
     "name": "stdout",
     "output_type": "stream",
     "text": [
      "Wall time: 2h 16s\n"
     ]
    }
   ],
   "source": [
    "%%time\n",
    "d = datetime.datetime.strptime('2019-01-01', '%Y-%m-%d')\n",
    "\n",
    "for i in range(5):\n",
    "    \n",
    "    min_date = datetime.datetime.strftime(d + relativedelta(months=i), '%Y-%m-%d')\n",
    "    max_date = datetime.datetime.strftime(d + relativedelta(months=i+1), '%Y-%m-%d')\n",
    "    \n",
    "    sub_snaps = [s for s in snaps if int(s[6]) >= int(max_date[6])]\n",
    "    days = [s for s in sub_snaps if int(s[6]) == int(max_date[6])\n",
    "        ] + [s for s in sub_snaps if (s[8:] == '01')&(int(s[6]) >= int(max_date[6])+1)] + snaps[-1:]\n",
    "    \n",
    "    params = (min_date, max_date, list(days))\n",
    "    \n",
    "    logger.info('{0}, {1}, {2}'.format(*params))\n",
    "\n",
    "    df = postgres.get_data('time_reporting_changes.sql', param=params, param_type='tuple')\n",
    "    \n",
    "    df.to_pickle('../data/time_reporting_changes{}.pkl'.format(min_date))"
   ]
  },
  {
   "cell_type": "code",
   "execution_count": null,
   "metadata": {},
   "outputs": [],
   "source": [
    "df.shape"
   ]
  },
  {
   "cell_type": "code",
   "execution_count": null,
   "metadata": {},
   "outputs": [],
   "source": [
    "df = pd.read_pickle('../data/time_reporting_changes.pkl')"
   ]
  },
  {
   "cell_type": "code",
   "execution_count": null,
   "metadata": {},
   "outputs": [],
   "source": []
  },
  {
   "cell_type": "code",
   "execution_count": null,
   "metadata": {},
   "outputs": [],
   "source": []
  },
  {
   "cell_type": "markdown",
   "metadata": {},
   "source": [
    "# Sankey"
   ]
  },
  {
   "cell_type": "code",
   "execution_count": null,
   "metadata": {},
   "outputs": [],
   "source": []
  },
  {
   "cell_type": "code",
   "execution_count": null,
   "metadata": {},
   "outputs": [],
   "source": []
  },
  {
   "cell_type": "code",
   "execution_count": null,
   "metadata": {},
   "outputs": [],
   "source": []
  },
  {
   "cell_type": "code",
   "execution_count": 3,
   "metadata": {},
   "outputs": [],
   "source": [
    "def time_report_moving(month='Jan', corr='yes'):\n",
    "    \n",
    "    def regular(x):\n",
    "\n",
    "        d1 = x['from'][:10]\n",
    "        d2 = x['to'][:10]\n",
    "        b = x['from'][11:]\n",
    "\n",
    "        if b == 'billable':\n",
    "            s = df[\n",
    "                (df.date.astype(str) == d1) &\n",
    "                (df.billable == True) &\n",
    "                (df.id.isin(\n",
    "                    df[\n",
    "                        (df.date.astype(str) == d2) &\n",
    "                        (df.billable == True)\n",
    "                    ].id \n",
    "                ))\n",
    "            ].duration.sum()\n",
    "\n",
    "        else:\n",
    "            s = df[\n",
    "                (df.date.astype(str) == d1) &\n",
    "                (df.billable == False) &\n",
    "                (df.id.isin(\n",
    "                    df[\n",
    "                        (df.date.astype(str) == d2) &\n",
    "                        (df.billable == False)\n",
    "                    ].id \n",
    "                ))\n",
    "            ].duration.sum()\n",
    "\n",
    "        return s\n",
    "\n",
    "    def correct(x):\n",
    "\n",
    "        b = x['from'][11:]\n",
    "        v = x['val']\n",
    "        d_min = min(df.date.unique().astype(str))\n",
    "        d_max = max(df.date.unique().astype(str))\n",
    "\n",
    "        if b == 'billable':\n",
    "\n",
    "            corr = df[\n",
    "                (df.date.astype(str) == d_min) &\n",
    "                (df.billable == True) &\n",
    "                (df.id.isin(\n",
    "                    df[\n",
    "                        (df.date.astype(str) == d_max) &\n",
    "                        (df.billable == True)\n",
    "                    ].id \n",
    "                ))\n",
    "            ].duration.sum()\n",
    "\n",
    "        else:\n",
    "\n",
    "            corr = df[\n",
    "                (df.date.astype(str) == d_min) &\n",
    "                (df.billable == False) &\n",
    "                (df.id.isin(\n",
    "                    df[\n",
    "                        (df.date.astype(str) == d_max) &\n",
    "                        (df.billable == False)\n",
    "                    ].id \n",
    "                ))\n",
    "            ].duration.sum()\n",
    "\n",
    "        return (v-corr)\n",
    "\n",
    "    def to_cancel(x):\n",
    "\n",
    "        d1 = x['from'][:10]\n",
    "        d2 = min([d for d in df.date.unique().astype(str) if d > d1])\n",
    "        b = x['from'][11:]\n",
    "\n",
    "        if b == 'billable':\n",
    "            s = df[\n",
    "                (df.date.astype(str) == d1) &\n",
    "                (df.billable == True) &\n",
    "                (~df.id.isin(\n",
    "                    df[\n",
    "                        (df.date.astype(str) == d2) &\n",
    "                        (df.billable == True)\n",
    "                    ].id \n",
    "                ))\n",
    "            ].duration.sum()\n",
    "\n",
    "        else:\n",
    "            s = df[\n",
    "                (df.date.astype(str) == d1) &\n",
    "                (df.billable == False) &\n",
    "                (~df.id.isin(\n",
    "                    df[\n",
    "                        (df.date.astype(str) == d2) &\n",
    "                        (df.billable == False)\n",
    "                    ].id \n",
    "                ))\n",
    "            ].duration.sum()\n",
    "\n",
    "        return s\n",
    "\n",
    "    def from_new(x):\n",
    "\n",
    "        d2 = x['to'][:10]\n",
    "        d1 = max([d for d in df.date.unique().astype(str) if d < d2])\n",
    "        b = x['to'][11:]\n",
    "\n",
    "        if b == 'billable':\n",
    "            s = df[\n",
    "                (df.date.astype(str) == d2) &\n",
    "                (df.billable == True) &\n",
    "                (~df.id.isin(\n",
    "                    df[\n",
    "                        (df.date.astype(str) == d1) &\n",
    "                        (df.billable == True)\n",
    "                    ].id \n",
    "                ))\n",
    "            ].duration.sum()\n",
    "\n",
    "        else:\n",
    "            s = df[\n",
    "                (df.date.astype(str) == d2) &\n",
    "                (df.billable == False) &\n",
    "                (~df.id.isin(\n",
    "                    df[\n",
    "                        (df.date.astype(str) == d1) &\n",
    "                        (df.billable == False)\n",
    "                    ].id \n",
    "                ))\n",
    "            ].duration.sum()\n",
    "\n",
    "        return s\n",
    "    \n",
    "    \n",
    "    months = {\n",
    "        'Jan' : '2019-01-01',\n",
    "        'Feb' : '2019-02-01',\n",
    "        'Mar' : '2019-03-01',\n",
    "        'Apr' : '2019-04-01',\n",
    "        'May' : '2019-05-01'\n",
    "    }\n",
    "    \n",
    "    df = pd.read_pickle('../data/time_reporting_changes{}.pkl'.format(months[month]))\n",
    "    \n",
    "    lables = ['New hours', 'Cancelled hours']\n",
    "    for d in df.date.unique().astype(str):\n",
    "        for b in ['billable', 'NONbillable']:\n",
    "            lables.append(d + '_' + b)\n",
    "            \n",
    "    colors = ['blue', 'red'] + ['blue' if l[-11:] == 'NONbillable' else 'green' for l in lables][2:]\n",
    "    \n",
    "    moves = []\n",
    "    for d1 in list(df.date.unique().astype(str))[:-1]:\n",
    "        d2 = min([d for d in df.date.unique().astype(str) if d > d1])\n",
    "        for b in ['billable', 'NONbillable']:\n",
    "            moves.append([d1 + '_' + b, d2 + '_' + b])\n",
    "    moves = pd.DataFrame(moves, columns=['from', 'to'])\n",
    "    \n",
    "    moves_from = moves.copy()\n",
    "    moves_from['from'] = 'New hours'\n",
    "    moves_to = moves.copy()\n",
    "    moves_to['to'] = 'Cancelled hours'\n",
    "\n",
    "    moves['val'] = moves.apply(regular, axis=1)\n",
    "    \n",
    "    if corr == 'yes':\n",
    "        moves['val'] = moves.apply(correct, axis=1)\n",
    "        \n",
    "    moves_from['val'] = moves_from.apply(from_new, axis=1)\n",
    "    moves_to['val'] = moves_to.apply(to_cancel, axis=1)\n",
    "\n",
    "    moves = pd.concat([moves, moves_from, moves_to])\n",
    "\n",
    "    moves['from_id'] = moves['from'].map(lambda x: [i for i,l in enumerate(lables) if l == x][0]).astype(int)\n",
    "    moves['to_id'] = moves['to'].map(lambda x: [i for i,l in enumerate(lables) if l == x][0]).astype(int)\n",
    "\n",
    "    data = dict(\n",
    "        type='sankey',\n",
    "        node = dict(\n",
    "          pad = 15,\n",
    "          thickness = 20,\n",
    "          line = dict(\n",
    "            color = \"black\",\n",
    "            width = 0.5\n",
    "          ),\n",
    "          label = lables,\n",
    "          color = colors\n",
    "        ),\n",
    "        link = dict(\n",
    "          source = list(moves['from_id']),\n",
    "          target = list(moves['to_id']),\n",
    "          value = list(moves['val'])\n",
    "      ))\n",
    "\n",
    "    layout =  dict(\n",
    "        title = \"{} hours\".format(month),\n",
    "        font = dict(\n",
    "          size = 10\n",
    "        )\n",
    "    )\n",
    "\n",
    "    fig = dict(data=[data], layout=layout)\n",
    "    \n",
    "    plotly.offline.init_notebook_mode(connected=True)\n",
    "    \n",
    "    display(py.iplot(fig, validate=False))\n",
    "    \n",
    "    \n",
    "    moves.to_pickle('../data/time_reporting_final_{}.pkl'.format(months[month]))"
   ]
  },
  {
   "cell_type": "code",
   "execution_count": 6,
   "metadata": {
    "collapsed": true
   },
   "outputs": [
    {
     "data": {
      "text/html": [
       "        <script type=\"text/javascript\">\n",
       "        window.PlotlyConfig = {MathJaxConfig: 'local'};\n",
       "        if (window.MathJax) {MathJax.Hub.Config({SVG: {font: \"STIX-Web\"}});}\n",
       "        if (typeof require !== 'undefined') {\n",
       "        require.undef(\"plotly\");\n",
       "        requirejs.config({\n",
       "            paths: {\n",
       "                'plotly': ['https://cdn.plot.ly/plotly-latest.min']\n",
       "            }\n",
       "        });\n",
       "        require(['plotly'], function(Plotly) {\n",
       "            window._Plotly = Plotly;\n",
       "        });\n",
       "        }\n",
       "        </script>\n",
       "        "
      ]
     },
     "metadata": {},
     "output_type": "display_data"
    },
    {
     "name": "stderr",
     "output_type": "stream",
     "text": [
      "2019-06-23 08:41:39,740 - urllib3.connectionpool : DEBUG : Starting new HTTPS connection (1): plot.ly:443\n",
      "2019-06-23 08:41:41,635 - urllib3.connectionpool : DEBUG : https://plot.ly:443 \"POST /clientresp HTTP/1.1\" 200 None\n"
     ]
    },
    {
     "data": {
      "text/html": [
       "<iframe id=\"igraph\" scrolling=\"no\" style=\"border:none;\" seamless=\"seamless\" src=\"https://plot.ly/~alex20dc/101.embed\" height=\"525px\" width=\"100%\"></iframe>"
      ],
      "text/plain": [
       "<chart_studio.tools.PlotlyDisplay object>"
      ]
     },
     "metadata": {},
     "output_type": "display_data"
    },
    {
     "name": "stdout",
     "output_type": "stream",
     "text": [
      "Wall time: 11min 1s\n"
     ]
    }
   ],
   "source": [
    "%%time\n",
    "time_report_moving(month='Jan', corr='yes')"
   ]
  },
  {
   "cell_type": "code",
   "execution_count": 7,
   "metadata": {
    "collapsed": true
   },
   "outputs": [
    {
     "data": {
      "text/html": [
       "        <script type=\"text/javascript\">\n",
       "        window.PlotlyConfig = {MathJaxConfig: 'local'};\n",
       "        if (window.MathJax) {MathJax.Hub.Config({SVG: {font: \"STIX-Web\"}});}\n",
       "        if (typeof require !== 'undefined') {\n",
       "        require.undef(\"plotly\");\n",
       "        requirejs.config({\n",
       "            paths: {\n",
       "                'plotly': ['https://cdn.plot.ly/plotly-latest.min']\n",
       "            }\n",
       "        });\n",
       "        require(['plotly'], function(Plotly) {\n",
       "            window._Plotly = Plotly;\n",
       "        });\n",
       "        }\n",
       "        </script>\n",
       "        "
      ]
     },
     "metadata": {},
     "output_type": "display_data"
    },
    {
     "name": "stderr",
     "output_type": "stream",
     "text": [
      "2019-06-23 08:49:47,904 - urllib3.connectionpool : DEBUG : Starting new HTTPS connection (1): plot.ly:443\n",
      "2019-06-23 08:49:49,479 - urllib3.connectionpool : DEBUG : https://plot.ly:443 \"POST /clientresp HTTP/1.1\" 200 None\n"
     ]
    },
    {
     "data": {
      "text/html": [
       "<iframe id=\"igraph\" scrolling=\"no\" style=\"border:none;\" seamless=\"seamless\" src=\"https://plot.ly/~alex20dc/103.embed\" height=\"525px\" width=\"100%\"></iframe>"
      ],
      "text/plain": [
       "<chart_studio.tools.PlotlyDisplay object>"
      ]
     },
     "metadata": {},
     "output_type": "display_data"
    },
    {
     "name": "stdout",
     "output_type": "stream",
     "text": [
      "Wall time: 8min 8s\n"
     ]
    }
   ],
   "source": [
    "%%time\n",
    "time_report_moving(month='Feb', corr='yes')"
   ]
  },
  {
   "cell_type": "code",
   "execution_count": 8,
   "metadata": {
    "collapsed": true
   },
   "outputs": [
    {
     "data": {
      "text/html": [
       "        <script type=\"text/javascript\">\n",
       "        window.PlotlyConfig = {MathJaxConfig: 'local'};\n",
       "        if (window.MathJax) {MathJax.Hub.Config({SVG: {font: \"STIX-Web\"}});}\n",
       "        if (typeof require !== 'undefined') {\n",
       "        require.undef(\"plotly\");\n",
       "        requirejs.config({\n",
       "            paths: {\n",
       "                'plotly': ['https://cdn.plot.ly/plotly-latest.min']\n",
       "            }\n",
       "        });\n",
       "        require(['plotly'], function(Plotly) {\n",
       "            window._Plotly = Plotly;\n",
       "        });\n",
       "        }\n",
       "        </script>\n",
       "        "
      ]
     },
     "metadata": {},
     "output_type": "display_data"
    },
    {
     "name": "stderr",
     "output_type": "stream",
     "text": [
      "2019-06-23 08:55:52,862 - urllib3.connectionpool : DEBUG : Starting new HTTPS connection (1): plot.ly:443\n",
      "2019-06-23 08:55:54,266 - urllib3.connectionpool : DEBUG : https://plot.ly:443 \"POST /clientresp HTTP/1.1\" 200 None\n"
     ]
    },
    {
     "data": {
      "text/html": [
       "<iframe id=\"igraph\" scrolling=\"no\" style=\"border:none;\" seamless=\"seamless\" src=\"https://plot.ly/~alex20dc/105.embed\" height=\"525px\" width=\"100%\"></iframe>"
      ],
      "text/plain": [
       "<chart_studio.tools.PlotlyDisplay object>"
      ]
     },
     "metadata": {},
     "output_type": "display_data"
    },
    {
     "name": "stdout",
     "output_type": "stream",
     "text": [
      "Wall time: 6min 3s\n"
     ]
    }
   ],
   "source": [
    "%%time\n",
    "time_report_moving(month='Mar', corr='yes')"
   ]
  },
  {
   "cell_type": "code",
   "execution_count": 9,
   "metadata": {
    "collapsed": true
   },
   "outputs": [
    {
     "data": {
      "text/html": [
       "        <script type=\"text/javascript\">\n",
       "        window.PlotlyConfig = {MathJaxConfig: 'local'};\n",
       "        if (window.MathJax) {MathJax.Hub.Config({SVG: {font: \"STIX-Web\"}});}\n",
       "        if (typeof require !== 'undefined') {\n",
       "        require.undef(\"plotly\");\n",
       "        requirejs.config({\n",
       "            paths: {\n",
       "                'plotly': ['https://cdn.plot.ly/plotly-latest.min']\n",
       "            }\n",
       "        });\n",
       "        require(['plotly'], function(Plotly) {\n",
       "            window._Plotly = Plotly;\n",
       "        });\n",
       "        }\n",
       "        </script>\n",
       "        "
      ]
     },
     "metadata": {},
     "output_type": "display_data"
    },
    {
     "name": "stderr",
     "output_type": "stream",
     "text": [
      "2019-06-23 09:00:34,497 - urllib3.connectionpool : DEBUG : Starting new HTTPS connection (1): plot.ly:443\n",
      "2019-06-23 09:00:35,936 - urllib3.connectionpool : DEBUG : https://plot.ly:443 \"POST /clientresp HTTP/1.1\" 200 None\n"
     ]
    },
    {
     "data": {
      "text/html": [
       "<iframe id=\"igraph\" scrolling=\"no\" style=\"border:none;\" seamless=\"seamless\" src=\"https://plot.ly/~alex20dc/107.embed\" height=\"525px\" width=\"100%\"></iframe>"
      ],
      "text/plain": [
       "<chart_studio.tools.PlotlyDisplay object>"
      ]
     },
     "metadata": {},
     "output_type": "display_data"
    },
    {
     "name": "stdout",
     "output_type": "stream",
     "text": [
      "Wall time: 4min 40s\n"
     ]
    }
   ],
   "source": [
    "%%time\n",
    "time_report_moving(month='Apr', corr='yes')"
   ]
  },
  {
   "cell_type": "code",
   "execution_count": 10,
   "metadata": {
    "collapsed": true
   },
   "outputs": [
    {
     "data": {
      "text/html": [
       "        <script type=\"text/javascript\">\n",
       "        window.PlotlyConfig = {MathJaxConfig: 'local'};\n",
       "        if (window.MathJax) {MathJax.Hub.Config({SVG: {font: \"STIX-Web\"}});}\n",
       "        if (typeof require !== 'undefined') {\n",
       "        require.undef(\"plotly\");\n",
       "        requirejs.config({\n",
       "            paths: {\n",
       "                'plotly': ['https://cdn.plot.ly/plotly-latest.min']\n",
       "            }\n",
       "        });\n",
       "        require(['plotly'], function(Plotly) {\n",
       "            window._Plotly = Plotly;\n",
       "        });\n",
       "        }\n",
       "        </script>\n",
       "        "
      ]
     },
     "metadata": {},
     "output_type": "display_data"
    },
    {
     "name": "stderr",
     "output_type": "stream",
     "text": [
      "2019-06-23 09:04:04,301 - urllib3.connectionpool : DEBUG : Starting new HTTPS connection (1): plot.ly:443\n",
      "2019-06-23 09:04:06,144 - urllib3.connectionpool : DEBUG : https://plot.ly:443 \"POST /clientresp HTTP/1.1\" 200 None\n"
     ]
    },
    {
     "data": {
      "text/html": [
       "<iframe id=\"igraph\" scrolling=\"no\" style=\"border:none;\" seamless=\"seamless\" src=\"https://plot.ly/~alex20dc/109.embed\" height=\"525px\" width=\"100%\"></iframe>"
      ],
      "text/plain": [
       "<chart_studio.tools.PlotlyDisplay object>"
      ]
     },
     "metadata": {},
     "output_type": "display_data"
    },
    {
     "name": "stdout",
     "output_type": "stream",
     "text": [
      "Wall time: 3min 29s\n"
     ]
    }
   ],
   "source": [
    "%%time\n",
    "time_report_moving(month='May', corr='yes')"
   ]
  },
  {
   "cell_type": "code",
   "execution_count": null,
   "metadata": {},
   "outputs": [],
   "source": []
  },
  {
   "cell_type": "code",
   "execution_count": 11,
   "metadata": {
    "collapsed": true
   },
   "outputs": [
    {
     "data": {
      "text/html": [
       "        <script type=\"text/javascript\">\n",
       "        window.PlotlyConfig = {MathJaxConfig: 'local'};\n",
       "        if (window.MathJax) {MathJax.Hub.Config({SVG: {font: \"STIX-Web\"}});}\n",
       "        if (typeof require !== 'undefined') {\n",
       "        require.undef(\"plotly\");\n",
       "        requirejs.config({\n",
       "            paths: {\n",
       "                'plotly': ['https://cdn.plot.ly/plotly-latest.min']\n",
       "            }\n",
       "        });\n",
       "        require(['plotly'], function(Plotly) {\n",
       "            window._Plotly = Plotly;\n",
       "        });\n",
       "        }\n",
       "        </script>\n",
       "        "
      ]
     },
     "metadata": {},
     "output_type": "display_data"
    },
    {
     "name": "stderr",
     "output_type": "stream",
     "text": [
      "2019-06-23 09:12:15,822 - urllib3.connectionpool : DEBUG : Starting new HTTPS connection (1): plot.ly:443\n",
      "2019-06-23 09:12:17,403 - urllib3.connectionpool : DEBUG : https://plot.ly:443 \"POST /clientresp HTTP/1.1\" 200 None\n"
     ]
    },
    {
     "data": {
      "text/html": [
       "<iframe id=\"igraph\" scrolling=\"no\" style=\"border:none;\" seamless=\"seamless\" src=\"https://plot.ly/~alex20dc/111.embed\" height=\"525px\" width=\"100%\"></iframe>"
      ],
      "text/plain": [
       "<chart_studio.tools.PlotlyDisplay object>"
      ]
     },
     "metadata": {},
     "output_type": "display_data"
    },
    {
     "name": "stdout",
     "output_type": "stream",
     "text": [
      "Wall time: 8min 16s\n"
     ]
    }
   ],
   "source": [
    "%%time\n",
    "time_report_moving(month='Jan', corr='no')"
   ]
  },
  {
   "cell_type": "code",
   "execution_count": 12,
   "metadata": {
    "collapsed": true
   },
   "outputs": [
    {
     "data": {
      "text/html": [
       "        <script type=\"text/javascript\">\n",
       "        window.PlotlyConfig = {MathJaxConfig: 'local'};\n",
       "        if (window.MathJax) {MathJax.Hub.Config({SVG: {font: \"STIX-Web\"}});}\n",
       "        if (typeof require !== 'undefined') {\n",
       "        require.undef(\"plotly\");\n",
       "        requirejs.config({\n",
       "            paths: {\n",
       "                'plotly': ['https://cdn.plot.ly/plotly-latest.min']\n",
       "            }\n",
       "        });\n",
       "        require(['plotly'], function(Plotly) {\n",
       "            window._Plotly = Plotly;\n",
       "        });\n",
       "        }\n",
       "        </script>\n",
       "        "
      ]
     },
     "metadata": {},
     "output_type": "display_data"
    },
    {
     "name": "stderr",
     "output_type": "stream",
     "text": [
      "2019-06-23 09:18:34,186 - urllib3.connectionpool : DEBUG : Starting new HTTPS connection (1): plot.ly:443\n",
      "2019-06-23 09:18:36,595 - urllib3.connectionpool : DEBUG : https://plot.ly:443 \"POST /clientresp HTTP/1.1\" 200 None\n"
     ]
    },
    {
     "data": {
      "text/html": [
       "<iframe id=\"igraph\" scrolling=\"no\" style=\"border:none;\" seamless=\"seamless\" src=\"https://plot.ly/~alex20dc/113.embed\" height=\"525px\" width=\"100%\"></iframe>"
      ],
      "text/plain": [
       "<chart_studio.tools.PlotlyDisplay object>"
      ]
     },
     "metadata": {},
     "output_type": "display_data"
    },
    {
     "name": "stdout",
     "output_type": "stream",
     "text": [
      "Wall time: 6min 18s\n"
     ]
    }
   ],
   "source": [
    "%%time\n",
    "time_report_moving(month='Feb', corr='no')"
   ]
  },
  {
   "cell_type": "code",
   "execution_count": 13,
   "metadata": {
    "collapsed": true
   },
   "outputs": [
    {
     "data": {
      "text/html": [
       "        <script type=\"text/javascript\">\n",
       "        window.PlotlyConfig = {MathJaxConfig: 'local'};\n",
       "        if (window.MathJax) {MathJax.Hub.Config({SVG: {font: \"STIX-Web\"}});}\n",
       "        if (typeof require !== 'undefined') {\n",
       "        require.undef(\"plotly\");\n",
       "        requirejs.config({\n",
       "            paths: {\n",
       "                'plotly': ['https://cdn.plot.ly/plotly-latest.min']\n",
       "            }\n",
       "        });\n",
       "        require(['plotly'], function(Plotly) {\n",
       "            window._Plotly = Plotly;\n",
       "        });\n",
       "        }\n",
       "        </script>\n",
       "        "
      ]
     },
     "metadata": {},
     "output_type": "display_data"
    },
    {
     "name": "stderr",
     "output_type": "stream",
     "text": [
      "2019-06-23 09:23:27,654 - urllib3.connectionpool : DEBUG : Starting new HTTPS connection (1): plot.ly:443\n",
      "2019-06-23 09:23:29,098 - urllib3.connectionpool : DEBUG : https://plot.ly:443 \"POST /clientresp HTTP/1.1\" 200 None\n"
     ]
    },
    {
     "data": {
      "text/html": [
       "<iframe id=\"igraph\" scrolling=\"no\" style=\"border:none;\" seamless=\"seamless\" src=\"https://plot.ly/~alex20dc/115.embed\" height=\"525px\" width=\"100%\"></iframe>"
      ],
      "text/plain": [
       "<chart_studio.tools.PlotlyDisplay object>"
      ]
     },
     "metadata": {},
     "output_type": "display_data"
    },
    {
     "name": "stdout",
     "output_type": "stream",
     "text": [
      "Wall time: 4min 50s\n"
     ]
    }
   ],
   "source": [
    "%%time\n",
    "time_report_moving(month='Mar', corr='no')"
   ]
  },
  {
   "cell_type": "code",
   "execution_count": 14,
   "metadata": {
    "collapsed": true
   },
   "outputs": [
    {
     "data": {
      "text/html": [
       "        <script type=\"text/javascript\">\n",
       "        window.PlotlyConfig = {MathJaxConfig: 'local'};\n",
       "        if (window.MathJax) {MathJax.Hub.Config({SVG: {font: \"STIX-Web\"}});}\n",
       "        if (typeof require !== 'undefined') {\n",
       "        require.undef(\"plotly\");\n",
       "        requirejs.config({\n",
       "            paths: {\n",
       "                'plotly': ['https://cdn.plot.ly/plotly-latest.min']\n",
       "            }\n",
       "        });\n",
       "        require(['plotly'], function(Plotly) {\n",
       "            window._Plotly = Plotly;\n",
       "        });\n",
       "        }\n",
       "        </script>\n",
       "        "
      ]
     },
     "metadata": {},
     "output_type": "display_data"
    },
    {
     "name": "stderr",
     "output_type": "stream",
     "text": [
      "2019-06-23 09:27:13,364 - urllib3.connectionpool : DEBUG : Starting new HTTPS connection (1): plot.ly:443\n",
      "2019-06-23 09:27:14,996 - urllib3.connectionpool : DEBUG : https://plot.ly:443 \"POST /clientresp HTTP/1.1\" 200 None\n"
     ]
    },
    {
     "data": {
      "text/html": [
       "<iframe id=\"igraph\" scrolling=\"no\" style=\"border:none;\" seamless=\"seamless\" src=\"https://plot.ly/~alex20dc/117.embed\" height=\"525px\" width=\"100%\"></iframe>"
      ],
      "text/plain": [
       "<chart_studio.tools.PlotlyDisplay object>"
      ]
     },
     "metadata": {},
     "output_type": "display_data"
    },
    {
     "name": "stdout",
     "output_type": "stream",
     "text": [
      "Wall time: 3min 44s\n"
     ]
    }
   ],
   "source": [
    "%%time\n",
    "time_report_moving(month='Apr', corr='no')"
   ]
  },
  {
   "cell_type": "code",
   "execution_count": 15,
   "metadata": {
    "collapsed": true
   },
   "outputs": [
    {
     "data": {
      "text/html": [
       "        <script type=\"text/javascript\">\n",
       "        window.PlotlyConfig = {MathJaxConfig: 'local'};\n",
       "        if (window.MathJax) {MathJax.Hub.Config({SVG: {font: \"STIX-Web\"}});}\n",
       "        if (typeof require !== 'undefined') {\n",
       "        require.undef(\"plotly\");\n",
       "        requirejs.config({\n",
       "            paths: {\n",
       "                'plotly': ['https://cdn.plot.ly/plotly-latest.min']\n",
       "            }\n",
       "        });\n",
       "        require(['plotly'], function(Plotly) {\n",
       "            window._Plotly = Plotly;\n",
       "        });\n",
       "        }\n",
       "        </script>\n",
       "        "
      ]
     },
     "metadata": {},
     "output_type": "display_data"
    },
    {
     "name": "stderr",
     "output_type": "stream",
     "text": [
      "2019-06-23 09:30:03,644 - urllib3.connectionpool : DEBUG : Starting new HTTPS connection (1): plot.ly:443\n",
      "2019-06-23 09:30:05,635 - urllib3.connectionpool : DEBUG : https://plot.ly:443 \"POST /clientresp HTTP/1.1\" 200 None\n"
     ]
    },
    {
     "data": {
      "text/html": [
       "<iframe id=\"igraph\" scrolling=\"no\" style=\"border:none;\" seamless=\"seamless\" src=\"https://plot.ly/~alex20dc/119.embed\" height=\"525px\" width=\"100%\"></iframe>"
      ],
      "text/plain": [
       "<chart_studio.tools.PlotlyDisplay object>"
      ]
     },
     "metadata": {},
     "output_type": "display_data"
    },
    {
     "name": "stdout",
     "output_type": "stream",
     "text": [
      "Wall time: 2min 49s\n"
     ]
    }
   ],
   "source": [
    "%%time\n",
    "time_report_moving(month='May', corr='no')"
   ]
  },
  {
   "cell_type": "code",
   "execution_count": null,
   "metadata": {},
   "outputs": [],
   "source": []
  },
  {
   "cell_type": "markdown",
   "metadata": {},
   "source": [
    "# Grouping by accounts"
   ]
  },
  {
   "cell_type": "code",
   "execution_count": 5,
   "metadata": {},
   "outputs": [],
   "source": [
    "def grouping_by_accounts(month = 'Jan'):\n",
    "    \n",
    "    logger.info('Script for {} was started'.format(month))\n",
    "    \n",
    "    months = {\n",
    "        'Jan' : '2019-01-01',\n",
    "        'Feb' : '2019-02-01',\n",
    "        'Mar' : '2019-03-01',\n",
    "        'Apr' : '2019-04-01',\n",
    "        'May' : '2019-05-01'\n",
    "    }\n",
    "    \n",
    "    df = pd.read_pickle('../data/time_reporting_changes{}.pkl'.format(months[month]))\n",
    "    \n",
    "    logger.info(df.shape)\n",
    "\n",
    "    proj = set(df.project_uid_projection.unique()) - set(['npa', 'vac'])\n",
    "\n",
    "    proj = postgres.get_data('bind_project_by_ids.sql', param=list(\n",
    "        proj), param_type='list')\n",
    "\n",
    "    pos = list(df.bind_position_id.dropna().astype(int).unique())\n",
    "\n",
    "    pos = postgres.get_data('bind_projects_by_positions.sql', param=pos, param_type='list')\n",
    "\n",
    "    pos.position_id = pos.position_id.astype(str)\n",
    "\n",
    "    df = pd.merge(\n",
    "        df, pos.set_index('position_id'), how='left',\n",
    "        left_on = 'bind_position_id', right_index = True\n",
    "    )\n",
    "\n",
    "    proj.external_id = proj.external_id.astype(str)\n",
    "\n",
    "    df = pd.merge(\n",
    "        df, proj.set_index('external_id'), how='left',\n",
    "        left_on = 'project_uid_projection', right_index = True\n",
    "    )\n",
    "    \n",
    "    logger.info(df.shape)\n",
    "\n",
    "    df['bucket'] = np.where(df.project_uid_projection == 'npa', 'NPA', \n",
    "                            np.where(df.project_uid_projection == 'vac', 'VAC', df.account)\n",
    "                           )\n",
    "    df['billing_bucket'] = np.where(\n",
    "        df.project_uid_projection == 'vac', 'Acc_vac', np.where(\n",
    "            df.billable == True, 'Acc_bill', np.where(\n",
    "                (df.project_uid_projection == 'npa')|(df.billing_type_name == 'On Training'), 'Acc_npa', np.where(\n",
    "                    (df.account == 'EPM') & (df.billing_type_name == 'Temporary'), 'EPM_npa', 'Acc_nonbill'\n",
    "                )\n",
    "            )\n",
    "        )\n",
    "    )\n",
    "\n",
    "\n",
    "    df['key'] = df.bucket.astype(str) + '--' + df.billable.astype(str) + '--' + df.billing_bucket\n",
    "\n",
    "    df1 = df[df.date == min(df.date.unique())]\n",
    "    df1 = pd.DataFrame(df1.groupby('key').duration.sum()).rename(columns={'duration' : min(df.date.unique().astype(str))})\n",
    "\n",
    "    for d in list(df.date.unique().astype(str))[1:]:\n",
    "\n",
    "        df2 = df[df.date.astype(str) == d]\n",
    "\n",
    "        df2 = pd.DataFrame(df2.groupby('key').duration.sum()).rename(columns={'duration' : d})\n",
    "\n",
    "        df1 = pd.merge(\n",
    "            df1, df2, how='outer',\n",
    "            left_index = True, right_index = True\n",
    "        )\n",
    "\n",
    "\n",
    "    df1 = df1.reset_index()\n",
    "    df1['account'] = df1['key'].map(lambda k: k.split('--')[0])\n",
    "    df1['billable'] = df1['key'].map(lambda k: k.split('--')[1])\n",
    "    df1['billing_bucket'] = df1['key'].map(lambda k: k.split('--')[2])\n",
    "\n",
    "\n",
    "    df1.to_excel('../data/reported_time_by_accounts_{}.xlsx'.format(month))\n",
    "    \n",
    "    logger.info('data were loaded to file: reported_time_by_accounts_{}.xlsx'.format(month))"
   ]
  },
  {
   "cell_type": "code",
   "execution_count": 6,
   "metadata": {},
   "outputs": [
    {
     "name": "stderr",
     "output_type": "stream",
     "text": [
      "2019-06-26 11:09:52,786 - root : INFO : Script for Jan was started\n",
      "2019-06-26 11:11:40,982 - root : INFO : (7139381, 13)\n",
      "2019-06-26 11:12:11,651 - root : INFO : (7139381, 16)\n",
      "2019-06-26 11:13:04,459 - root : INFO : data were loaded to file: reported_time_by_accounts_Jan.xlsx\n"
     ]
    },
    {
     "name": "stdout",
     "output_type": "stream",
     "text": [
      "Wall time: 3min 25s\n"
     ]
    }
   ],
   "source": [
    "%%time\n",
    "grouping_by_accounts(month = 'Jan')"
   ]
  },
  {
   "cell_type": "code",
   "execution_count": 7,
   "metadata": {},
   "outputs": [
    {
     "name": "stderr",
     "output_type": "stream",
     "text": [
      "2019-06-26 11:13:18,539 - root : INFO : Script for Feb was started\n",
      "2019-06-26 11:14:34,688 - root : INFO : (6248739, 13)\n",
      "2019-06-26 11:14:53,289 - root : INFO : (6248739, 16)\n",
      "2019-06-26 11:15:32,790 - root : INFO : data were loaded to file: reported_time_by_accounts_Feb.xlsx\n"
     ]
    },
    {
     "name": "stdout",
     "output_type": "stream",
     "text": [
      "Wall time: 2min 21s\n"
     ]
    }
   ],
   "source": [
    "%%time\n",
    "grouping_by_accounts(month = 'Feb')"
   ]
  },
  {
   "cell_type": "code",
   "execution_count": 8,
   "metadata": {},
   "outputs": [
    {
     "name": "stderr",
     "output_type": "stream",
     "text": [
      "2019-06-26 11:15:39,663 - root : INFO : Script for Mar was started\n",
      "2019-06-26 11:16:42,928 - root : INFO : (5506903, 13)\n",
      "2019-06-26 11:16:57,530 - root : INFO : (5506903, 16)\n",
      "2019-06-26 11:17:28,703 - root : INFO : data were loaded to file: reported_time_by_accounts_Mar.xlsx\n"
     ]
    },
    {
     "name": "stdout",
     "output_type": "stream",
     "text": [
      "Wall time: 1min 53s\n"
     ]
    }
   ],
   "source": [
    "%%time\n",
    "grouping_by_accounts(month = 'Mar')"
   ]
  },
  {
   "cell_type": "code",
   "execution_count": 9,
   "metadata": {},
   "outputs": [
    {
     "name": "stderr",
     "output_type": "stream",
     "text": [
      "2019-06-26 11:17:33,714 - root : INFO : Script for Apr was started\n",
      "2019-06-26 11:18:37,697 - root : INFO : (4972741, 13)\n",
      "2019-06-26 11:18:51,342 - root : INFO : (4972741, 16)\n",
      "2019-06-26 11:19:17,315 - root : INFO : data were loaded to file: reported_time_by_accounts_Apr.xlsx\n"
     ]
    },
    {
     "name": "stdout",
     "output_type": "stream",
     "text": [
      "Wall time: 1min 47s\n"
     ]
    }
   ],
   "source": [
    "%%time\n",
    "grouping_by_accounts(month = 'Apr')"
   ]
  },
  {
   "cell_type": "code",
   "execution_count": 10,
   "metadata": {},
   "outputs": [
    {
     "name": "stderr",
     "output_type": "stream",
     "text": [
      "2019-06-26 11:19:20,867 - root : INFO : Script for May was started\n",
      "2019-06-26 11:20:17,536 - root : INFO : (4644177, 13)\n",
      "2019-06-26 11:20:30,444 - root : INFO : (4644177, 16)\n",
      "2019-06-26 11:20:51,829 - root : INFO : data were loaded to file: reported_time_by_accounts_May.xlsx\n"
     ]
    },
    {
     "name": "stdout",
     "output_type": "stream",
     "text": [
      "Wall time: 1min 33s\n"
     ]
    }
   ],
   "source": [
    "%%time\n",
    "grouping_by_accounts(month = 'May')"
   ]
  },
  {
   "cell_type": "code",
   "execution_count": null,
   "metadata": {},
   "outputs": [],
   "source": []
  },
  {
   "cell_type": "code",
   "execution_count": null,
   "metadata": {},
   "outputs": [],
   "source": []
  },
  {
   "cell_type": "markdown",
   "metadata": {
    "heading_collapsed": true
   },
   "source": [
    "## Many-to-many"
   ]
  },
  {
   "cell_type": "code",
   "execution_count": null,
   "metadata": {
    "hidden": true
   },
   "outputs": [],
   "source": []
  },
  {
   "cell_type": "code",
   "execution_count": 75,
   "metadata": {
    "hidden": true
   },
   "outputs": [],
   "source": [
    "df['key'] = df.pmc_user_id.astype(str) + df.timesheet_date.astype(str)\n",
    "df['grouper'] = df.pmc_user_id.astype(str) + df.timesheet_date.astype(str) + df.billable.astype(str) \\\n",
    "                + df.bucket.astype(str)"
   ]
  },
  {
   "cell_type": "code",
   "execution_count": 79,
   "metadata": {
    "hidden": true,
    "scrolled": true
   },
   "outputs": [
    {
     "data": {
      "text/html": [
       "<div>\n",
       "<style scoped>\n",
       "    .dataframe tbody tr th:only-of-type {\n",
       "        vertical-align: middle;\n",
       "    }\n",
       "\n",
       "    .dataframe tbody tr th {\n",
       "        vertical-align: top;\n",
       "    }\n",
       "\n",
       "    .dataframe thead th {\n",
       "        text-align: right;\n",
       "    }\n",
       "</style>\n",
       "<table border=\"1\" class=\"dataframe\">\n",
       "  <thead>\n",
       "    <tr style=\"text-align: right;\">\n",
       "      <th></th>\n",
       "      <th>grouper</th>\n",
       "    </tr>\n",
       "    <tr>\n",
       "      <th>key</th>\n",
       "      <th></th>\n",
       "    </tr>\n",
       "  </thead>\n",
       "  <tbody>\n",
       "    <tr>\n",
       "      <th>40607414003014296952019-01-24</th>\n",
       "      <td>8</td>\n",
       "    </tr>\n",
       "    <tr>\n",
       "      <th>40607414003014296952019-01-25</th>\n",
       "      <td>8</td>\n",
       "    </tr>\n",
       "    <tr>\n",
       "      <th>40607414003014296952019-01-23</th>\n",
       "      <td>7</td>\n",
       "    </tr>\n",
       "    <tr>\n",
       "      <th>40607414003014296952019-01-21</th>\n",
       "      <td>7</td>\n",
       "    </tr>\n",
       "    <tr>\n",
       "      <th>40607414003014296872019-01-28</th>\n",
       "      <td>7</td>\n",
       "    </tr>\n",
       "    <tr>\n",
       "      <th>40607414003014296872019-01-17</th>\n",
       "      <td>7</td>\n",
       "    </tr>\n",
       "    <tr>\n",
       "      <th>40607414003014297212019-01-15</th>\n",
       "      <td>7</td>\n",
       "    </tr>\n",
       "    <tr>\n",
       "      <th>40607414003014297212019-01-08</th>\n",
       "      <td>7</td>\n",
       "    </tr>\n",
       "    <tr>\n",
       "      <th>40607414003014296872019-01-16</th>\n",
       "      <td>7</td>\n",
       "    </tr>\n",
       "    <tr>\n",
       "      <th>40607414003014296952019-01-08</th>\n",
       "      <td>7</td>\n",
       "    </tr>\n",
       "    <tr>\n",
       "      <th>40607414003014296952019-01-09</th>\n",
       "      <td>7</td>\n",
       "    </tr>\n",
       "    <tr>\n",
       "      <th>40607414003014296952019-01-10</th>\n",
       "      <td>7</td>\n",
       "    </tr>\n",
       "    <tr>\n",
       "      <th>40607414003014296952019-01-14</th>\n",
       "      <td>7</td>\n",
       "    </tr>\n",
       "    <tr>\n",
       "      <th>40607414003014296952019-01-15</th>\n",
       "      <td>7</td>\n",
       "    </tr>\n",
       "    <tr>\n",
       "      <th>40607414003014296952019-01-16</th>\n",
       "      <td>7</td>\n",
       "    </tr>\n",
       "    <tr>\n",
       "      <th>40607414003014296952019-01-18</th>\n",
       "      <td>7</td>\n",
       "    </tr>\n",
       "    <tr>\n",
       "      <th>40607414003014296952019-01-11</th>\n",
       "      <td>7</td>\n",
       "    </tr>\n",
       "    <tr>\n",
       "      <th>40607414003014358522019-01-16</th>\n",
       "      <td>7</td>\n",
       "    </tr>\n",
       "    <tr>\n",
       "      <th>40607414003014296952019-01-28</th>\n",
       "      <td>7</td>\n",
       "    </tr>\n",
       "    <tr>\n",
       "      <th>40607414003014296952019-01-22</th>\n",
       "      <td>7</td>\n",
       "    </tr>\n",
       "    <tr>\n",
       "      <th>40006001000002006462019-01-29</th>\n",
       "      <td>7</td>\n",
       "    </tr>\n",
       "    <tr>\n",
       "      <th>40607414003647249802019-01-08</th>\n",
       "      <td>6</td>\n",
       "    </tr>\n",
       "    <tr>\n",
       "      <th>40607414003014296952019-01-07</th>\n",
       "      <td>6</td>\n",
       "    </tr>\n",
       "    <tr>\n",
       "      <th>40607414003014358522019-01-14</th>\n",
       "      <td>6</td>\n",
       "    </tr>\n",
       "    <tr>\n",
       "      <th>40607414003014297212019-01-22</th>\n",
       "      <td>6</td>\n",
       "    </tr>\n",
       "    <tr>\n",
       "      <th>40607414003014297212019-01-03</th>\n",
       "      <td>6</td>\n",
       "    </tr>\n",
       "    <tr>\n",
       "      <th>40607414003014297212019-01-11</th>\n",
       "      <td>6</td>\n",
       "    </tr>\n",
       "    <tr>\n",
       "      <th>40607414003014297212019-01-23</th>\n",
       "      <td>6</td>\n",
       "    </tr>\n",
       "    <tr>\n",
       "      <th>40607414000080006382019-01-21</th>\n",
       "      <td>6</td>\n",
       "    </tr>\n",
       "    <tr>\n",
       "      <th>40607414003014297212019-01-16</th>\n",
       "      <td>6</td>\n",
       "    </tr>\n",
       "    <tr>\n",
       "      <th>...</th>\n",
       "      <td>...</td>\n",
       "    </tr>\n",
       "    <tr>\n",
       "      <th>40607414000351958032019-01-30</th>\n",
       "      <td>1</td>\n",
       "    </tr>\n",
       "    <tr>\n",
       "      <th>40607414000351958032019-01-31</th>\n",
       "      <td>1</td>\n",
       "    </tr>\n",
       "    <tr>\n",
       "      <th>40607414000351958952019-01-02</th>\n",
       "      <td>1</td>\n",
       "    </tr>\n",
       "    <tr>\n",
       "      <th>40607414000351958952019-01-03</th>\n",
       "      <td>1</td>\n",
       "    </tr>\n",
       "    <tr>\n",
       "      <th>40607414000351958952019-01-08</th>\n",
       "      <td>1</td>\n",
       "    </tr>\n",
       "    <tr>\n",
       "      <th>40607414000351956742019-01-31</th>\n",
       "      <td>1</td>\n",
       "    </tr>\n",
       "    <tr>\n",
       "      <th>40607414000351958952019-01-09</th>\n",
       "      <td>1</td>\n",
       "    </tr>\n",
       "    <tr>\n",
       "      <th>40607414000351958952019-01-10</th>\n",
       "      <td>1</td>\n",
       "    </tr>\n",
       "    <tr>\n",
       "      <th>40607414000351958952019-01-11</th>\n",
       "      <td>1</td>\n",
       "    </tr>\n",
       "    <tr>\n",
       "      <th>40607414000351958952019-01-14</th>\n",
       "      <td>1</td>\n",
       "    </tr>\n",
       "    <tr>\n",
       "      <th>40607414000351958952019-01-15</th>\n",
       "      <td>1</td>\n",
       "    </tr>\n",
       "    <tr>\n",
       "      <th>40607414000351958952019-01-16</th>\n",
       "      <td>1</td>\n",
       "    </tr>\n",
       "    <tr>\n",
       "      <th>40607414000351958032019-01-25</th>\n",
       "      <td>1</td>\n",
       "    </tr>\n",
       "    <tr>\n",
       "      <th>40607414000351958032019-01-24</th>\n",
       "      <td>1</td>\n",
       "    </tr>\n",
       "    <tr>\n",
       "      <th>40607414000351958032019-01-23</th>\n",
       "      <td>1</td>\n",
       "    </tr>\n",
       "    <tr>\n",
       "      <th>40607414000351958032019-01-22</th>\n",
       "      <td>1</td>\n",
       "    </tr>\n",
       "    <tr>\n",
       "      <th>40607414000351958032019-01-18</th>\n",
       "      <td>1</td>\n",
       "    </tr>\n",
       "    <tr>\n",
       "      <th>40607414000351958032019-01-17</th>\n",
       "      <td>1</td>\n",
       "    </tr>\n",
       "    <tr>\n",
       "      <th>40607414000351958032019-01-16</th>\n",
       "      <td>1</td>\n",
       "    </tr>\n",
       "    <tr>\n",
       "      <th>40607414000351958032019-01-15</th>\n",
       "      <td>1</td>\n",
       "    </tr>\n",
       "    <tr>\n",
       "      <th>40607414000351958032019-01-14</th>\n",
       "      <td>1</td>\n",
       "    </tr>\n",
       "    <tr>\n",
       "      <th>40607414000351958032019-01-11</th>\n",
       "      <td>1</td>\n",
       "    </tr>\n",
       "    <tr>\n",
       "      <th>40607414000351958032019-01-10</th>\n",
       "      <td>1</td>\n",
       "    </tr>\n",
       "    <tr>\n",
       "      <th>40607414000351958032019-01-09</th>\n",
       "      <td>1</td>\n",
       "    </tr>\n",
       "    <tr>\n",
       "      <th>40607414000351958032019-01-08</th>\n",
       "      <td>1</td>\n",
       "    </tr>\n",
       "    <tr>\n",
       "      <th>40607414000351958032019-01-07</th>\n",
       "      <td>1</td>\n",
       "    </tr>\n",
       "    <tr>\n",
       "      <th>40607414000351958032019-01-04</th>\n",
       "      <td>1</td>\n",
       "    </tr>\n",
       "    <tr>\n",
       "      <th>40607414000351958032019-01-03</th>\n",
       "      <td>1</td>\n",
       "    </tr>\n",
       "    <tr>\n",
       "      <th>40607414000351958032019-01-02</th>\n",
       "      <td>1</td>\n",
       "    </tr>\n",
       "    <tr>\n",
       "      <th>6254000000002102019-01-31</th>\n",
       "      <td>1</td>\n",
       "    </tr>\n",
       "  </tbody>\n",
       "</table>\n",
       "<p>592116 rows × 1 columns</p>\n",
       "</div>"
      ],
      "text/plain": [
       "                               grouper\n",
       "key                                   \n",
       "40607414003014296952019-01-24        8\n",
       "40607414003014296952019-01-25        8\n",
       "40607414003014296952019-01-23        7\n",
       "40607414003014296952019-01-21        7\n",
       "40607414003014296872019-01-28        7\n",
       "40607414003014296872019-01-17        7\n",
       "40607414003014297212019-01-15        7\n",
       "40607414003014297212019-01-08        7\n",
       "40607414003014296872019-01-16        7\n",
       "40607414003014296952019-01-08        7\n",
       "40607414003014296952019-01-09        7\n",
       "40607414003014296952019-01-10        7\n",
       "40607414003014296952019-01-14        7\n",
       "40607414003014296952019-01-15        7\n",
       "40607414003014296952019-01-16        7\n",
       "40607414003014296952019-01-18        7\n",
       "40607414003014296952019-01-11        7\n",
       "40607414003014358522019-01-16        7\n",
       "40607414003014296952019-01-28        7\n",
       "40607414003014296952019-01-22        7\n",
       "40006001000002006462019-01-29        7\n",
       "40607414003647249802019-01-08        6\n",
       "40607414003014296952019-01-07        6\n",
       "40607414003014358522019-01-14        6\n",
       "40607414003014297212019-01-22        6\n",
       "40607414003014297212019-01-03        6\n",
       "40607414003014297212019-01-11        6\n",
       "40607414003014297212019-01-23        6\n",
       "40607414000080006382019-01-21        6\n",
       "40607414003014297212019-01-16        6\n",
       "...                                ...\n",
       "40607414000351958032019-01-30        1\n",
       "40607414000351958032019-01-31        1\n",
       "40607414000351958952019-01-02        1\n",
       "40607414000351958952019-01-03        1\n",
       "40607414000351958952019-01-08        1\n",
       "40607414000351956742019-01-31        1\n",
       "40607414000351958952019-01-09        1\n",
       "40607414000351958952019-01-10        1\n",
       "40607414000351958952019-01-11        1\n",
       "40607414000351958952019-01-14        1\n",
       "40607414000351958952019-01-15        1\n",
       "40607414000351958952019-01-16        1\n",
       "40607414000351958032019-01-25        1\n",
       "40607414000351958032019-01-24        1\n",
       "40607414000351958032019-01-23        1\n",
       "40607414000351958032019-01-22        1\n",
       "40607414000351958032019-01-18        1\n",
       "40607414000351958032019-01-17        1\n",
       "40607414000351958032019-01-16        1\n",
       "40607414000351958032019-01-15        1\n",
       "40607414000351958032019-01-14        1\n",
       "40607414000351958032019-01-11        1\n",
       "40607414000351958032019-01-10        1\n",
       "40607414000351958032019-01-09        1\n",
       "40607414000351958032019-01-08        1\n",
       "40607414000351958032019-01-07        1\n",
       "40607414000351958032019-01-04        1\n",
       "40607414000351958032019-01-03        1\n",
       "40607414000351958032019-01-02        1\n",
       "6254000000002102019-01-31            1\n",
       "\n",
       "[592116 rows x 1 columns]"
      ]
     },
     "execution_count": 79,
     "metadata": {},
     "output_type": "execute_result"
    }
   ],
   "source": [
    "pd.DataFrame(df.drop_duplicates('grouper').groupby('key')['grouper'].count()).sort_values('grouper', ascending=False)"
   ]
  },
  {
   "cell_type": "code",
   "execution_count": 89,
   "metadata": {
    "hidden": true,
    "scrolled": true
   },
   "outputs": [
    {
     "data": {
      "text/html": [
       "<div>\n",
       "<style scoped>\n",
       "    .dataframe tbody tr th:only-of-type {\n",
       "        vertical-align: middle;\n",
       "    }\n",
       "\n",
       "    .dataframe tbody tr th {\n",
       "        vertical-align: top;\n",
       "    }\n",
       "\n",
       "    .dataframe thead th {\n",
       "        text-align: right;\n",
       "    }\n",
       "</style>\n",
       "<table border=\"1\" class=\"dataframe\">\n",
       "  <thead>\n",
       "    <tr style=\"text-align: right;\">\n",
       "      <th></th>\n",
       "      <th>id</th>\n",
       "      <th>bucket</th>\n",
       "      <th>billable</th>\n",
       "      <th>duration</th>\n",
       "    </tr>\n",
       "  </thead>\n",
       "  <tbody>\n",
       "    <tr>\n",
       "      <th>618330</th>\n",
       "      <td>60735589</td>\n",
       "      <td>NPA</td>\n",
       "      <td>False</td>\n",
       "      <td>0.25</td>\n",
       "    </tr>\n",
       "    <tr>\n",
       "      <th>618477</th>\n",
       "      <td>60894658</td>\n",
       "      <td>HEMA</td>\n",
       "      <td>True</td>\n",
       "      <td>1.50</td>\n",
       "    </tr>\n",
       "    <tr>\n",
       "      <th>642898</th>\n",
       "      <td>60766039</td>\n",
       "      <td>ADN</td>\n",
       "      <td>False</td>\n",
       "      <td>5.00</td>\n",
       "    </tr>\n",
       "    <tr>\n",
       "      <th>649449</th>\n",
       "      <td>60742759</td>\n",
       "      <td>ADN</td>\n",
       "      <td>False</td>\n",
       "      <td>0.50</td>\n",
       "    </tr>\n",
       "    <tr>\n",
       "      <th>649533</th>\n",
       "      <td>60742880</td>\n",
       "      <td>ADN</td>\n",
       "      <td>False</td>\n",
       "      <td>0.75</td>\n",
       "    </tr>\n",
       "  </tbody>\n",
       "</table>\n",
       "</div>"
      ],
      "text/plain": [
       "              id bucket  billable  duration\n",
       "618330  60735589    NPA     False      0.25\n",
       "618477  60894658   HEMA      True      1.50\n",
       "642898  60766039    ADN     False      5.00\n",
       "649449  60742759    ADN     False      0.50\n",
       "649533  60742880    ADN     False      0.75"
      ]
     },
     "execution_count": 89,
     "metadata": {},
     "output_type": "execute_result"
    }
   ],
   "source": [
    "df[\n",
    "    (df.date.astype(str) == '2019-02-01') &\n",
    "    (df.pmc_user_id == '4060741400301429695') &\n",
    "    (df.timesheet_date.astype(str) == '2019-01-24')\n",
    "][['id', 'bucket', 'billable', 'duration']]"
   ]
  },
  {
   "cell_type": "code",
   "execution_count": 88,
   "metadata": {
    "hidden": true,
    "scrolled": true
   },
   "outputs": [
    {
     "data": {
      "text/html": [
       "<div>\n",
       "<style scoped>\n",
       "    .dataframe tbody tr th:only-of-type {\n",
       "        vertical-align: middle;\n",
       "    }\n",
       "\n",
       "    .dataframe tbody tr th {\n",
       "        vertical-align: top;\n",
       "    }\n",
       "\n",
       "    .dataframe thead th {\n",
       "        text-align: right;\n",
       "    }\n",
       "</style>\n",
       "<table border=\"1\" class=\"dataframe\">\n",
       "  <thead>\n",
       "    <tr style=\"text-align: right;\">\n",
       "      <th></th>\n",
       "      <th>id</th>\n",
       "      <th>bucket</th>\n",
       "      <th>billable</th>\n",
       "      <th>duration</th>\n",
       "    </tr>\n",
       "  </thead>\n",
       "  <tbody>\n",
       "    <tr>\n",
       "      <th>6872906</th>\n",
       "      <td>62477199</td>\n",
       "      <td>PLU</td>\n",
       "      <td>True</td>\n",
       "      <td>3.20</td>\n",
       "    </tr>\n",
       "    <tr>\n",
       "      <th>6872907</th>\n",
       "      <td>62476733</td>\n",
       "      <td>HEMA</td>\n",
       "      <td>False</td>\n",
       "      <td>1.60</td>\n",
       "    </tr>\n",
       "    <tr>\n",
       "      <th>6872908</th>\n",
       "      <td>62270205</td>\n",
       "      <td>ADN</td>\n",
       "      <td>True</td>\n",
       "      <td>1.60</td>\n",
       "    </tr>\n",
       "    <tr>\n",
       "      <th>6873023</th>\n",
       "      <td>64840508</td>\n",
       "      <td>MDB</td>\n",
       "      <td>True</td>\n",
       "      <td>1.60</td>\n",
       "    </tr>\n",
       "    <tr>\n",
       "      <th>6898605</th>\n",
       "      <td>60766039</td>\n",
       "      <td>ADN</td>\n",
       "      <td>False</td>\n",
       "      <td>5.00</td>\n",
       "    </tr>\n",
       "    <tr>\n",
       "      <th>6905156</th>\n",
       "      <td>60742759</td>\n",
       "      <td>ADN</td>\n",
       "      <td>False</td>\n",
       "      <td>0.50</td>\n",
       "    </tr>\n",
       "    <tr>\n",
       "      <th>6905240</th>\n",
       "      <td>60742880</td>\n",
       "      <td>ADN</td>\n",
       "      <td>False</td>\n",
       "      <td>0.75</td>\n",
       "    </tr>\n",
       "  </tbody>\n",
       "</table>\n",
       "</div>"
      ],
      "text/plain": [
       "               id bucket  billable  duration\n",
       "6872906  62477199    PLU      True      3.20\n",
       "6872907  62476733   HEMA     False      1.60\n",
       "6872908  62270205    ADN      True      1.60\n",
       "6873023  64840508    MDB      True      1.60\n",
       "6898605  60766039    ADN     False      5.00\n",
       "6905156  60742759    ADN     False      0.50\n",
       "6905240  60742880    ADN     False      0.75"
      ]
     },
     "execution_count": 88,
     "metadata": {},
     "output_type": "execute_result"
    }
   ],
   "source": [
    "df[\n",
    "    (df.date.astype(str) == '2019-06-21') &\n",
    "    (df.pmc_user_id == '4060741400301429695') &\n",
    "    (df.timesheet_date.astype(str) == '2019-01-24')\n",
    "][['id', 'bucket', 'billable', 'duration']]"
   ]
  },
  {
   "cell_type": "code",
   "execution_count": null,
   "metadata": {
    "hidden": true
   },
   "outputs": [],
   "source": []
  },
  {
   "cell_type": "markdown",
   "metadata": {},
   "source": [
    "## Saint-Petersburg May billable"
   ]
  },
  {
   "cell_type": "code",
   "execution_count": 38,
   "metadata": {},
   "outputs": [],
   "source": [
    "df = pd.read_pickle('../data/time_reporting_changes2019-05-01.pkl')"
   ]
  },
  {
   "cell_type": "code",
   "execution_count": 39,
   "metadata": {},
   "outputs": [
    {
     "name": "stderr",
     "output_type": "stream",
     "text": [
      "2019-06-26 11:42:20,650 - root : INFO : (4644177, 13)\n",
      "2019-06-26 11:42:37,661 - root : INFO : (4644177, 16)\n"
     ]
    }
   ],
   "source": [
    "logger.info(df.shape)\n",
    "\n",
    "proj = set(df.project_uid_projection.unique()) - set(['npa', 'vac'])\n",
    "\n",
    "proj = postgres.get_data('bind_project_by_ids.sql', param=list(\n",
    "    proj), param_type='list')\n",
    "\n",
    "pos = list(df.bind_position_id.dropna().astype(int).unique())\n",
    "\n",
    "pos = postgres.get_data('bind_projects_by_positions.sql', param=pos, param_type='list')\n",
    "\n",
    "pos.position_id = pos.position_id.astype(str)\n",
    "\n",
    "df = pd.merge(\n",
    "    df, pos.set_index('position_id'), how='left',\n",
    "    left_on = 'bind_position_id', right_index = True\n",
    ")\n",
    "\n",
    "proj.external_id = proj.external_id.astype(str)\n",
    "\n",
    "df = pd.merge(\n",
    "    df, proj.set_index('external_id'), how='left',\n",
    "    left_on = 'project_uid_projection', right_index = True\n",
    ")\n",
    "\n",
    "logger.info(df.shape)\n",
    "\n",
    "df['bucket'] = np.where(df.project_uid_projection == 'npa', 'NPA', \n",
    "                        np.where(df.project_uid_projection == 'vac', 'VAC', df.account)\n",
    "                       )\n",
    "df['billing_bucket'] = np.where(\n",
    "    df.project_uid_projection == 'vac', 'Acc_vac', np.where(\n",
    "        df.billable == True, 'Acc_bill', np.where(\n",
    "            (df.project_uid_projection == 'npa')|(df.billing_type_name == 'On Training'), 'Acc_npa', np.where(\n",
    "                (df.account == 'EPM') & (df.billing_type_name == 'Temporary'), 'EPM_npa', 'Acc_nonbill'\n",
    "            )\n",
    "        )\n",
    "    )\n",
    ")"
   ]
  },
  {
   "cell_type": "code",
   "execution_count": 40,
   "metadata": {},
   "outputs": [],
   "source": [
    "emp = postgres.get_data('bind_locations_by_employees.sql')"
   ]
  },
  {
   "cell_type": "code",
   "execution_count": 41,
   "metadata": {
    "scrolled": true
   },
   "outputs": [
    {
     "data": {
      "text/html": [
       "<div>\n",
       "<style scoped>\n",
       "    .dataframe tbody tr th:only-of-type {\n",
       "        vertical-align: middle;\n",
       "    }\n",
       "\n",
       "    .dataframe tbody tr th {\n",
       "        vertical-align: top;\n",
       "    }\n",
       "\n",
       "    .dataframe thead th {\n",
       "        text-align: right;\n",
       "    }\n",
       "</style>\n",
       "<table border=\"1\" class=\"dataframe\">\n",
       "  <thead>\n",
       "    <tr style=\"text-align: right;\">\n",
       "      <th></th>\n",
       "      <th>employee_id</th>\n",
       "      <th>location_name</th>\n",
       "      <th>full_name</th>\n",
       "    </tr>\n",
       "  </thead>\n",
       "  <tbody>\n",
       "    <tr>\n",
       "      <th>3</th>\n",
       "      <td>4060741400371153951</td>\n",
       "      <td>Hong Kong SAR</td>\n",
       "      <td>Travis Yeung</td>\n",
       "    </tr>\n",
       "    <tr>\n",
       "      <th>4</th>\n",
       "      <td>4000741400003261333</td>\n",
       "      <td>Mountain View, CA</td>\n",
       "      <td>Aliaksei Trushchankou</td>\n",
       "    </tr>\n",
       "    <tr>\n",
       "      <th>5</th>\n",
       "      <td>4060741400005328490</td>\n",
       "      <td>Mountain View, CA</td>\n",
       "      <td>Oleksandr Gorban</td>\n",
       "    </tr>\n",
       "    <tr>\n",
       "      <th>6</th>\n",
       "      <td>4060741400009503670</td>\n",
       "      <td>Kharkiv</td>\n",
       "      <td>Artem Starushko</td>\n",
       "    </tr>\n",
       "    <tr>\n",
       "      <th>9</th>\n",
       "      <td>4000741400007699437</td>\n",
       "      <td>Mountain View, CA</td>\n",
       "      <td>Vladimir Sauta</td>\n",
       "    </tr>\n",
       "    <tr>\n",
       "      <th>11</th>\n",
       "      <td>4060741400034494457</td>\n",
       "      <td>Mountain View, CA</td>\n",
       "      <td>Artem Zhuravsky</td>\n",
       "    </tr>\n",
       "    <tr>\n",
       "      <th>13</th>\n",
       "      <td>4060741400039650819</td>\n",
       "      <td>Kyiv</td>\n",
       "      <td>Dmytro Budnichenko</td>\n",
       "    </tr>\n",
       "    <tr>\n",
       "      <th>14</th>\n",
       "      <td>4060741400006053364</td>\n",
       "      <td>Mountain View, CA</td>\n",
       "      <td>Dmitry Kravtsov</td>\n",
       "    </tr>\n",
       "    <tr>\n",
       "      <th>16</th>\n",
       "      <td>4060741400040840281</td>\n",
       "      <td>Mountain View, CA</td>\n",
       "      <td>Aleksei Egorov</td>\n",
       "    </tr>\n",
       "    <tr>\n",
       "      <th>17</th>\n",
       "      <td>4060741400336284121</td>\n",
       "      <td>Boston, MA</td>\n",
       "      <td>Alexander Broerman</td>\n",
       "    </tr>\n",
       "    <tr>\n",
       "      <th>18</th>\n",
       "      <td>4000741400001832426</td>\n",
       "      <td>Mountain View, CA</td>\n",
       "      <td>Yauheni Halinski</td>\n",
       "    </tr>\n",
       "    <tr>\n",
       "      <th>19</th>\n",
       "      <td>4060741400009223972</td>\n",
       "      <td>Mountain View, CA</td>\n",
       "      <td>Chris Shoban</td>\n",
       "    </tr>\n",
       "    <tr>\n",
       "      <th>20</th>\n",
       "      <td>4060741400005102296</td>\n",
       "      <td>Mountain View, CA</td>\n",
       "      <td>Kostiantyn Kazymirov</td>\n",
       "    </tr>\n",
       "    <tr>\n",
       "      <th>21</th>\n",
       "      <td>4060741400329601969</td>\n",
       "      <td>Saratov</td>\n",
       "      <td>Vadim Kiselev</td>\n",
       "    </tr>\n",
       "    <tr>\n",
       "      <th>29</th>\n",
       "      <td>4060741400336538077</td>\n",
       "      <td>Mountain View, CA</td>\n",
       "      <td>Srinivasan Narayanasamy</td>\n",
       "    </tr>\n",
       "    <tr>\n",
       "      <th>30</th>\n",
       "      <td>4060741400035807772</td>\n",
       "      <td>Mountain View, CA</td>\n",
       "      <td>Yahor Zhuk</td>\n",
       "    </tr>\n",
       "    <tr>\n",
       "      <th>31</th>\n",
       "      <td>4060741400377610117</td>\n",
       "      <td>Kyiv</td>\n",
       "      <td>Nurlan Salahaddinov</td>\n",
       "    </tr>\n",
       "    <tr>\n",
       "      <th>32</th>\n",
       "      <td>4060741400301435788</td>\n",
       "      <td>Delft</td>\n",
       "      <td>Shlomo Ovadia</td>\n",
       "    </tr>\n",
       "    <tr>\n",
       "      <th>33</th>\n",
       "      <td>4060741400039838556</td>\n",
       "      <td>Mountain View, CA</td>\n",
       "      <td>Andrey Vaynberger</td>\n",
       "    </tr>\n",
       "    <tr>\n",
       "      <th>34</th>\n",
       "      <td>4060741400013641139</td>\n",
       "      <td>Palo Alto, CA</td>\n",
       "      <td>Maxim Skurskiy</td>\n",
       "    </tr>\n",
       "    <tr>\n",
       "      <th>37</th>\n",
       "      <td>4060741400040034147</td>\n",
       "      <td>Mountain View, CA</td>\n",
       "      <td>Leonid Khoroshko</td>\n",
       "    </tr>\n",
       "    <tr>\n",
       "      <th>38</th>\n",
       "      <td>4060741400007944495</td>\n",
       "      <td>Mountain View, CA</td>\n",
       "      <td>Ruslan Kesheshyan</td>\n",
       "    </tr>\n",
       "    <tr>\n",
       "      <th>39</th>\n",
       "      <td>4060741400035251362</td>\n",
       "      <td>Mountain View, CA</td>\n",
       "      <td>Daniil Gorbunov</td>\n",
       "    </tr>\n",
       "    <tr>\n",
       "      <th>40</th>\n",
       "      <td>4060741400034709263</td>\n",
       "      <td>Vitebsk</td>\n",
       "      <td>Aliaksandr Halauneu</td>\n",
       "    </tr>\n",
       "    <tr>\n",
       "      <th>41</th>\n",
       "      <td>4060741400036212310</td>\n",
       "      <td>Mountain View, CA</td>\n",
       "      <td>Irina Bainazarova</td>\n",
       "    </tr>\n",
       "    <tr>\n",
       "      <th>42</th>\n",
       "      <td>4060741400034422809</td>\n",
       "      <td>Mountain View, CA</td>\n",
       "      <td>Artem Nyzhnyk</td>\n",
       "    </tr>\n",
       "    <tr>\n",
       "      <th>43</th>\n",
       "      <td>4060741400019965619</td>\n",
       "      <td>Mountain View, CA</td>\n",
       "      <td>Dmytro Paukov</td>\n",
       "    </tr>\n",
       "    <tr>\n",
       "      <th>44</th>\n",
       "      <td>4060741400034883199</td>\n",
       "      <td>Mountain View, CA</td>\n",
       "      <td>Anton Lunev</td>\n",
       "    </tr>\n",
       "    <tr>\n",
       "      <th>45</th>\n",
       "      <td>4060741400035230164</td>\n",
       "      <td>Mountain View, CA</td>\n",
       "      <td>Mykola Ignatiev</td>\n",
       "    </tr>\n",
       "    <tr>\n",
       "      <th>46</th>\n",
       "      <td>4060741400356566228</td>\n",
       "      <td>Kharkiv</td>\n",
       "      <td>Oleksii Zinkovskyi</td>\n",
       "    </tr>\n",
       "    <tr>\n",
       "      <th>...</th>\n",
       "      <td>...</td>\n",
       "      <td>...</td>\n",
       "      <td>...</td>\n",
       "    </tr>\n",
       "    <tr>\n",
       "      <th>69340</th>\n",
       "      <td>4060741400036068344</td>\n",
       "      <td>Saint-Petersburg</td>\n",
       "      <td>Daniil Shapovalenko</td>\n",
       "    </tr>\n",
       "    <tr>\n",
       "      <th>69341</th>\n",
       "      <td>4060741400016237900</td>\n",
       "      <td>Saint-Petersburg</td>\n",
       "      <td>Igor Bartashevich</td>\n",
       "    </tr>\n",
       "    <tr>\n",
       "      <th>69342</th>\n",
       "      <td>4060741400347588755</td>\n",
       "      <td>Saint-Petersburg</td>\n",
       "      <td>Dmitrii Cherednikov</td>\n",
       "    </tr>\n",
       "    <tr>\n",
       "      <th>69343</th>\n",
       "      <td>4060741400040054752</td>\n",
       "      <td>Saint-Petersburg</td>\n",
       "      <td>Mikhail Khludnev</td>\n",
       "    </tr>\n",
       "    <tr>\n",
       "      <th>69344</th>\n",
       "      <td>4060741400008642915</td>\n",
       "      <td>Saint-Petersburg</td>\n",
       "      <td>Kristina Nedzvetskaya</td>\n",
       "    </tr>\n",
       "    <tr>\n",
       "      <th>69346</th>\n",
       "      <td>4060741400301097912</td>\n",
       "      <td>Saint-Petersburg</td>\n",
       "      <td>Olga Li1</td>\n",
       "    </tr>\n",
       "    <tr>\n",
       "      <th>69347</th>\n",
       "      <td>4060741400345554317</td>\n",
       "      <td>Saint-Petersburg</td>\n",
       "      <td>Aleksandr Lopatkin</td>\n",
       "    </tr>\n",
       "    <tr>\n",
       "      <th>69348</th>\n",
       "      <td>4060741400359166238</td>\n",
       "      <td>Saint-Petersburg</td>\n",
       "      <td>Olga Semakina</td>\n",
       "    </tr>\n",
       "    <tr>\n",
       "      <th>69349</th>\n",
       "      <td>4060741400007286951</td>\n",
       "      <td>Saint-Petersburg</td>\n",
       "      <td>Yevhen Strizhnev</td>\n",
       "    </tr>\n",
       "    <tr>\n",
       "      <th>69350</th>\n",
       "      <td>4060741400006900438</td>\n",
       "      <td>Kyiv</td>\n",
       "      <td>Oleksandr Isaiev</td>\n",
       "    </tr>\n",
       "    <tr>\n",
       "      <th>69351</th>\n",
       "      <td>4060741400338995811</td>\n",
       "      <td>Nizhny Novgorod</td>\n",
       "      <td>Anton Fomchenko</td>\n",
       "    </tr>\n",
       "    <tr>\n",
       "      <th>69352</th>\n",
       "      <td>4000741400002941055</td>\n",
       "      <td>Minsk</td>\n",
       "      <td>Yaraslau Kiryllau</td>\n",
       "    </tr>\n",
       "    <tr>\n",
       "      <th>69353</th>\n",
       "      <td>4060741400035605025</td>\n",
       "      <td>Gomel</td>\n",
       "      <td>Dzmitry Charnavoki</td>\n",
       "    </tr>\n",
       "    <tr>\n",
       "      <th>69354</th>\n",
       "      <td>4060741400305598395</td>\n",
       "      <td>Gomel</td>\n",
       "      <td>Raman Harbachou1</td>\n",
       "    </tr>\n",
       "    <tr>\n",
       "      <th>69355</th>\n",
       "      <td>4060741400037544610</td>\n",
       "      <td>Kharkiv</td>\n",
       "      <td>Illia Brusin</td>\n",
       "    </tr>\n",
       "    <tr>\n",
       "      <th>69357</th>\n",
       "      <td>4060741400009414198</td>\n",
       "      <td>Gomel</td>\n",
       "      <td>Aliaksandr Kavalkou</td>\n",
       "    </tr>\n",
       "    <tr>\n",
       "      <th>69358</th>\n",
       "      <td>4060741400007378214</td>\n",
       "      <td>Gomel</td>\n",
       "      <td>Aliaksandr Shchurok</td>\n",
       "    </tr>\n",
       "    <tr>\n",
       "      <th>69359</th>\n",
       "      <td>4060741400326124581</td>\n",
       "      <td>Gomel</td>\n",
       "      <td>Yauheni Shpetny</td>\n",
       "    </tr>\n",
       "    <tr>\n",
       "      <th>69360</th>\n",
       "      <td>4060741400359166293</td>\n",
       "      <td>Saint-Petersburg</td>\n",
       "      <td>Maksim Cha</td>\n",
       "    </tr>\n",
       "    <tr>\n",
       "      <th>69361</th>\n",
       "      <td>4060741400326007252</td>\n",
       "      <td>Minsk</td>\n",
       "      <td>Kseniya Kalashnikova</td>\n",
       "    </tr>\n",
       "    <tr>\n",
       "      <th>69362</th>\n",
       "      <td>4060741400035746580</td>\n",
       "      <td>Tver</td>\n",
       "      <td>Yurij Rumyancev</td>\n",
       "    </tr>\n",
       "    <tr>\n",
       "      <th>69363</th>\n",
       "      <td>4060741400037361708</td>\n",
       "      <td>Tver</td>\n",
       "      <td>Kamila Zaeva</td>\n",
       "    </tr>\n",
       "    <tr>\n",
       "      <th>69364</th>\n",
       "      <td>4060741400037489152</td>\n",
       "      <td>Minsk</td>\n",
       "      <td>Siarhei Liauko</td>\n",
       "    </tr>\n",
       "    <tr>\n",
       "      <th>69365</th>\n",
       "      <td>4060741400337463584</td>\n",
       "      <td>Almaty</td>\n",
       "      <td>Meruyert Mussakanova</td>\n",
       "    </tr>\n",
       "    <tr>\n",
       "      <th>69366</th>\n",
       "      <td>4060741400376905564</td>\n",
       "      <td>Minsk</td>\n",
       "      <td>Tsimafei Seradzinski</td>\n",
       "    </tr>\n",
       "    <tr>\n",
       "      <th>69367</th>\n",
       "      <td>4060741400375213307</td>\n",
       "      <td>Minsk</td>\n",
       "      <td>Alena Kharytonchyk</td>\n",
       "    </tr>\n",
       "    <tr>\n",
       "      <th>69368</th>\n",
       "      <td>4060741400375220177</td>\n",
       "      <td>Kyiv</td>\n",
       "      <td>Dmytro Didenko2</td>\n",
       "    </tr>\n",
       "    <tr>\n",
       "      <th>69370</th>\n",
       "      <td>4060741400038830037</td>\n",
       "      <td>Minsk</td>\n",
       "      <td>Viktoryia Tamasheuskaya</td>\n",
       "    </tr>\n",
       "    <tr>\n",
       "      <th>69371</th>\n",
       "      <td>4060741400372221556</td>\n",
       "      <td>Almaty</td>\n",
       "      <td>Marzhan Doszhanova</td>\n",
       "    </tr>\n",
       "    <tr>\n",
       "      <th>69372</th>\n",
       "      <td>4060741400005182690</td>\n",
       "      <td>Minsk</td>\n",
       "      <td>Maksim Penkrat</td>\n",
       "    </tr>\n",
       "  </tbody>\n",
       "</table>\n",
       "<p>32586 rows × 3 columns</p>\n",
       "</div>"
      ],
      "text/plain": [
       "               employee_id      location_name                full_name\n",
       "3      4060741400371153951      Hong Kong SAR             Travis Yeung\n",
       "4      4000741400003261333  Mountain View, CA    Aliaksei Trushchankou\n",
       "5      4060741400005328490  Mountain View, CA         Oleksandr Gorban\n",
       "6      4060741400009503670            Kharkiv          Artem Starushko\n",
       "9      4000741400007699437  Mountain View, CA           Vladimir Sauta\n",
       "11     4060741400034494457  Mountain View, CA          Artem Zhuravsky\n",
       "13     4060741400039650819               Kyiv       Dmytro Budnichenko\n",
       "14     4060741400006053364  Mountain View, CA          Dmitry Kravtsov\n",
       "16     4060741400040840281  Mountain View, CA           Aleksei Egorov\n",
       "17     4060741400336284121         Boston, MA       Alexander Broerman\n",
       "18     4000741400001832426  Mountain View, CA         Yauheni Halinski\n",
       "19     4060741400009223972  Mountain View, CA             Chris Shoban\n",
       "20     4060741400005102296  Mountain View, CA     Kostiantyn Kazymirov\n",
       "21     4060741400329601969            Saratov            Vadim Kiselev\n",
       "29     4060741400336538077  Mountain View, CA  Srinivasan Narayanasamy\n",
       "30     4060741400035807772  Mountain View, CA               Yahor Zhuk\n",
       "31     4060741400377610117               Kyiv      Nurlan Salahaddinov\n",
       "32     4060741400301435788              Delft            Shlomo Ovadia\n",
       "33     4060741400039838556  Mountain View, CA        Andrey Vaynberger\n",
       "34     4060741400013641139      Palo Alto, CA           Maxim Skurskiy\n",
       "37     4060741400040034147  Mountain View, CA         Leonid Khoroshko\n",
       "38     4060741400007944495  Mountain View, CA        Ruslan Kesheshyan\n",
       "39     4060741400035251362  Mountain View, CA          Daniil Gorbunov\n",
       "40     4060741400034709263            Vitebsk      Aliaksandr Halauneu\n",
       "41     4060741400036212310  Mountain View, CA        Irina Bainazarova\n",
       "42     4060741400034422809  Mountain View, CA            Artem Nyzhnyk\n",
       "43     4060741400019965619  Mountain View, CA            Dmytro Paukov\n",
       "44     4060741400034883199  Mountain View, CA              Anton Lunev\n",
       "45     4060741400035230164  Mountain View, CA          Mykola Ignatiev\n",
       "46     4060741400356566228            Kharkiv       Oleksii Zinkovskyi\n",
       "...                    ...                ...                      ...\n",
       "69340  4060741400036068344   Saint-Petersburg      Daniil Shapovalenko\n",
       "69341  4060741400016237900   Saint-Petersburg        Igor Bartashevich\n",
       "69342  4060741400347588755   Saint-Petersburg      Dmitrii Cherednikov\n",
       "69343  4060741400040054752   Saint-Petersburg         Mikhail Khludnev\n",
       "69344  4060741400008642915   Saint-Petersburg    Kristina Nedzvetskaya\n",
       "69346  4060741400301097912   Saint-Petersburg                 Olga Li1\n",
       "69347  4060741400345554317   Saint-Petersburg       Aleksandr Lopatkin\n",
       "69348  4060741400359166238   Saint-Petersburg            Olga Semakina\n",
       "69349  4060741400007286951   Saint-Petersburg         Yevhen Strizhnev\n",
       "69350  4060741400006900438               Kyiv         Oleksandr Isaiev\n",
       "69351  4060741400338995811    Nizhny Novgorod          Anton Fomchenko\n",
       "69352  4000741400002941055              Minsk        Yaraslau Kiryllau\n",
       "69353  4060741400035605025              Gomel       Dzmitry Charnavoki\n",
       "69354  4060741400305598395              Gomel         Raman Harbachou1\n",
       "69355  4060741400037544610            Kharkiv             Illia Brusin\n",
       "69357  4060741400009414198              Gomel      Aliaksandr Kavalkou\n",
       "69358  4060741400007378214              Gomel      Aliaksandr Shchurok\n",
       "69359  4060741400326124581              Gomel          Yauheni Shpetny\n",
       "69360  4060741400359166293   Saint-Petersburg               Maksim Cha\n",
       "69361  4060741400326007252              Minsk     Kseniya Kalashnikova\n",
       "69362  4060741400035746580               Tver          Yurij Rumyancev\n",
       "69363  4060741400037361708               Tver             Kamila Zaeva\n",
       "69364  4060741400037489152              Minsk           Siarhei Liauko\n",
       "69365  4060741400337463584             Almaty     Meruyert Mussakanova\n",
       "69366  4060741400376905564              Minsk     Tsimafei Seradzinski\n",
       "69367  4060741400375213307              Minsk       Alena Kharytonchyk\n",
       "69368  4060741400375220177               Kyiv          Dmytro Didenko2\n",
       "69370  4060741400038830037              Minsk  Viktoryia Tamasheuskaya\n",
       "69371  4060741400372221556             Almaty       Marzhan Doszhanova\n",
       "69372  4060741400005182690              Minsk           Maksim Penkrat\n",
       "\n",
       "[32586 rows x 3 columns]"
      ]
     },
     "execution_count": 41,
     "metadata": {},
     "output_type": "execute_result"
    }
   ],
   "source": [
    "emp.employee_id = emp.employee_id.astype(str)\n",
    "emp = emp[emp.employee_id.isin(df.pmc_user_id.unique().astype(str))]\n",
    "emp"
   ]
  },
  {
   "cell_type": "code",
   "execution_count": 42,
   "metadata": {},
   "outputs": [],
   "source": [
    "df = pd.merge(\n",
    "    df, emp.set_index('employee_id'), how='left',\n",
    "    left_on = 'pmc_user_id', right_index = True\n",
    ")"
   ]
  },
  {
   "cell_type": "code",
   "execution_count": 43,
   "metadata": {},
   "outputs": [
    {
     "data": {
      "text/plain": [
       "(4644177, 20)"
      ]
     },
     "execution_count": 43,
     "metadata": {},
     "output_type": "execute_result"
    }
   ],
   "source": [
    "df.shape"
   ]
  },
  {
   "cell_type": "code",
   "execution_count": 44,
   "metadata": {},
   "outputs": [],
   "source": [
    "df = df[\n",
    "    (df.location_name == 'Saint-Petersburg')\n",
    "#     & (df.billing_bucket == 'Acc_bill')\n",
    "]"
   ]
  },
  {
   "cell_type": "code",
   "execution_count": 47,
   "metadata": {
    "scrolled": true
   },
   "outputs": [],
   "source": [
    "emp = df[\n",
    "    (df.date.astype(str) == '2019-06-01') &\n",
    "    (~df.id.isin(\n",
    "        df[df.date.astype(str) == '2019-06-21'].id.unique()\n",
    "    ))\n",
    " ]#[['timesheet_date', 'activity_name', 'duration', 'bind_position_id', 'full_name', 'container', 'account']].to_excel(\n",
    "#'../data/Saint-Petersburg_May_changed_billable_reported_hours_per_empl.xlsx')"
   ]
  },
  {
   "cell_type": "code",
   "execution_count": 51,
   "metadata": {},
   "outputs": [
    {
     "data": {
      "text/plain": [
       "3312.5500000000002"
      ]
     },
     "execution_count": 51,
     "metadata": {},
     "output_type": "execute_result"
    }
   ],
   "source": [
    "df[\n",
    "    (df.date.astype(str) == '2019-06-01') &\n",
    "    (~df.id.isin(\n",
    "        df[df.date.astype(str) == '2019-06-21'].id.unique()\n",
    "    ))\n",
    "].duration.sum()"
   ]
  },
  {
   "cell_type": "code",
   "execution_count": null,
   "metadata": {},
   "outputs": [],
   "source": []
  },
  {
   "cell_type": "code",
   "execution_count": 45,
   "metadata": {},
   "outputs": [],
   "source": [
    "df['key'] = df.bucket.astype(str) + '--' + df.billable.astype(str) + '--' + df.billing_bucket\n",
    "\n",
    "df1 = df[df.date == min(df.date.unique())]\n",
    "df1 = pd.DataFrame(df1.groupby('key').duration.sum()).rename(columns={'duration' : min(df.date.unique().astype(str))})\n",
    "\n",
    "for d in list(df.date.unique().astype(str))[1:]:\n",
    "\n",
    "    df2 = df[df.date.astype(str) == d]\n",
    "\n",
    "    df2 = pd.DataFrame(df2.groupby('key').duration.sum()).rename(columns={'duration' : d})\n",
    "\n",
    "    df1 = pd.merge(\n",
    "        df1, df2, how='outer',\n",
    "        left_index = True, right_index = True\n",
    "    )\n",
    "\n",
    "\n",
    "df1 = df1.reset_index()\n",
    "df1['account'] = df1['key'].map(lambda k: k.split('--')[0])\n",
    "df1['billable'] = df1['key'].map(lambda k: k.split('--')[1])\n",
    "df1['billing_bucket'] = df1['key'].map(lambda k: k.split('--')[2])"
   ]
  },
  {
   "cell_type": "code",
   "execution_count": 46,
   "metadata": {
    "scrolled": true
   },
   "outputs": [],
   "source": [
    "df1.to_excel('../data/Saint-Petersburg_May_changed_billable_reported_hours_per_accounts.xlsx')"
   ]
  },
  {
   "cell_type": "code",
   "execution_count": null,
   "metadata": {},
   "outputs": [],
   "source": []
  },
  {
   "cell_type": "code",
   "execution_count": null,
   "metadata": {},
   "outputs": [],
   "source": []
  },
  {
   "cell_type": "code",
   "execution_count": null,
   "metadata": {},
   "outputs": [],
   "source": []
  }
 ],
 "metadata": {
  "kernelspec": {
   "display_name": "Python 2",
   "language": "python",
   "name": "python2"
  },
  "language_info": {
   "codemirror_mode": {
    "name": "ipython",
    "version": 2
   },
   "file_extension": ".py",
   "mimetype": "text/x-python",
   "name": "python",
   "nbconvert_exporter": "python",
   "pygments_lexer": "ipython2",
   "version": "2.7.14"
  },
  "toc": {
   "nav_menu": {},
   "number_sections": true,
   "sideBar": true,
   "skip_h1_title": false,
   "toc_cell": true,
   "toc_position": {},
   "toc_section_display": "block",
   "toc_window_display": true
  },
  "varInspector": {
   "cols": {
    "lenName": 16,
    "lenType": 16,
    "lenVar": 40
   },
   "kernels_config": {
    "python": {
     "delete_cmd_postfix": "",
     "delete_cmd_prefix": "del ",
     "library": "var_list.py",
     "varRefreshCmd": "print(var_dic_list())"
    },
    "r": {
     "delete_cmd_postfix": ") ",
     "delete_cmd_prefix": "rm(",
     "library": "var_list.r",
     "varRefreshCmd": "cat(var_dic_list()) "
    }
   },
   "types_to_exclude": [
    "module",
    "function",
    "builtin_function_or_method",
    "instance",
    "_Feature"
   ],
   "window_display": false
  }
 },
 "nbformat": 4,
 "nbformat_minor": 2
}
